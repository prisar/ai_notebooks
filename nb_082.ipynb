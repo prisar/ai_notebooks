{
  "nbformat": 4,
  "nbformat_minor": 0,
  "metadata": {
    "colab": {
      "provenance": [],
      "authorship_tag": "ABX9TyOf91QTi0ObgOqCXQZ6rf5u",
      "include_colab_link": true
    },
    "kernelspec": {
      "name": "python3",
      "display_name": "Python 3"
    },
    "language_info": {
      "name": "python"
    }
  },
  "cells": [
    {
      "cell_type": "markdown",
      "metadata": {
        "id": "view-in-github",
        "colab_type": "text"
      },
      "source": [
        "<a href=\"https://colab.research.google.com/github/prisar/ai_notebooks/blob/main/nb_082.ipynb\" target=\"_parent\"><img src=\"https://colab.research.google.com/assets/colab-badge.svg\" alt=\"Open In Colab\"/></a>"
      ]
    },
    {
      "cell_type": "code",
      "execution_count": null,
      "metadata": {
        "id": "YVFd82-l6Tia"
      },
      "outputs": [],
      "source": []
    },
    {
      "cell_type": "markdown",
      "metadata": {
        "id": "d196209c"
      },
      "source": [
        "# Task\n",
        "Implement policy iteration and value iteration on the FrozenLake environment. Compare the number of iterations to convergence for both algorithms and visualize the resulting state-value functions using heatmaps."
      ]
    },
    {
      "cell_type": "markdown",
      "metadata": {
        "id": "6b0fe6ef"
      },
      "source": [
        "## Set up the environment\n",
        "\n",
        "### Subtask:\n",
        "Import the necessary libraries and create the FrozenLake environment.\n"
      ]
    },
    {
      "cell_type": "markdown",
      "metadata": {
        "id": "63b06f0f"
      },
      "source": [
        "**Reasoning**:\n",
        "This code block will import all the necessary libraries and create the FrozenLake environment as specified in the instructions. This directly addresses all the steps in the subtask.\n",
        "\n"
      ]
    },
    {
      "cell_type": "code",
      "metadata": {
        "id": "423009ad"
      },
      "source": [
        "import gymnasium as gym\n",
        "import numpy as np\n",
        "import matplotlib.pyplot as plt\n",
        "import seaborn as sns\n",
        "\n",
        "env = gym.make('FrozenLake-v1', is_slippery=True, render_mode='ansi')"
      ],
      "execution_count": 1,
      "outputs": []
    },
    {
      "cell_type": "markdown",
      "metadata": {
        "id": "5ef887e7"
      },
      "source": [
        "## Implement policy iteration\n",
        "\n",
        "### Subtask:\n",
        "Implement the policy iteration algorithm to find the optimal policy for the FrozenLake environment.\n"
      ]
    },
    {
      "cell_type": "markdown",
      "metadata": {
        "id": "d8b06741"
      },
      "source": [
        "**Reasoning**:\n",
        "Implement the policy iteration algorithm as described in the instructions, including initialization, policy evaluation, and policy improvement steps, and track the number of iterations.\n",
        "\n"
      ]
    },
    {
      "cell_type": "code",
      "metadata": {
        "colab": {
          "base_uri": "https://localhost:8080/"
        },
        "id": "NJuU3EB26nOn",
        "outputId": "a4e4b832-5f38-4190-8d27-3f46345a6e7c"
      },
      "source": [
        "def policy_iteration(env, gamma=1.0, theta=1e-6):\n",
        "    \"\"\"\n",
        "    Implements the policy iteration algorithm.\n",
        "\n",
        "    Args:\n",
        "        env: The OpenAI Gym environment.\n",
        "        gamma: The discount factor.\n",
        "        theta: The convergence threshold.\n",
        "\n",
        "    Returns:\n",
        "        optimal_policy: The optimal policy.\n",
        "        optimal_value_function: The optimal value function.\n",
        "        num_iterations: The number of iterations to convergence.\n",
        "    \"\"\"\n",
        "    num_states = env.observation_space.n\n",
        "    num_actions = env.action_space.n\n",
        "\n",
        "    # 1. Initialize a random policy\n",
        "    policy = np.random.randint(0, num_actions, num_states)\n",
        "\n",
        "    # 2. Initialize the value function\n",
        "    value_function = np.zeros(num_states)\n",
        "\n",
        "    num_iterations = 0\n",
        "    while True:\n",
        "        num_iterations += 1\n",
        "        # 3. Policy Evaluation\n",
        "        while True:\n",
        "            delta = 0\n",
        "            for state in range(num_states):\n",
        "                v = value_function[state]\n",
        "                new_value = 0\n",
        "                action = policy[state]\n",
        "                for prob, next_state, reward, terminated in env.unwrapped.P[state][action]:\n",
        "                    new_value += prob * (reward + gamma * value_function[next_state] * (1 - terminated))\n",
        "                value_function[state] = new_value\n",
        "                delta = max(delta, abs(v - value_function[state]))\n",
        "            if delta < theta:\n",
        "                break\n",
        "\n",
        "        # 4. Policy Improvement\n",
        "        policy_stable = True\n",
        "        new_policy = np.zeros(num_states, dtype=int)\n",
        "        for state in range(num_states):\n",
        "            old_action = policy[state]\n",
        "            action_values = np.zeros(num_actions)\n",
        "            for action in range(num_actions):\n",
        "                q_value = 0\n",
        "                for prob, next_state, reward, terminated in env.unwrapped.P[state][action]:\n",
        "                    q_value += prob * (reward + gamma * value_function[next_state] * (1 - terminated))\n",
        "                action_values[action] = q_value\n",
        "            best_action = np.argmax(action_values)\n",
        "            new_policy[state] = best_action\n",
        "            if old_action != best_action:\n",
        "                policy_stable = False\n",
        "\n",
        "        policy = new_policy\n",
        "\n",
        "        # 5. Repeat until policy stabilizes\n",
        "        if policy_stable:\n",
        "            break\n",
        "\n",
        "    return policy, value_function, num_iterations\n",
        "\n",
        "optimal_policy_pi, optimal_value_function_pi, num_iterations_pi = policy_iteration(env)\n",
        "\n",
        "print(\"Optimal Policy (Policy Iteration):\")\n",
        "print(optimal_policy_pi)\n",
        "print(\"\\nOptimal Value Function (Policy Iteration):\")\n",
        "print(optimal_value_function_pi)\n",
        "print(\"\\nNumber of Iterations (Policy Iteration):\", num_iterations_pi)"
      ],
      "execution_count": 3,
      "outputs": [
        {
          "output_type": "stream",
          "name": "stdout",
          "text": [
            "Optimal Policy (Policy Iteration):\n",
            "[0 3 3 3 0 0 0 0 3 1 0 0 0 2 1 0]\n",
            "\n",
            "Optimal Value Function (Policy Iteration):\n",
            "[0.82351218 0.82350652 0.82350259 0.82350059 0.82351391 0.\n",
            " 0.52940001 0.         0.82351663 0.82352011 0.76469773 0.\n",
            " 0.         0.88234647 0.94117318 0.        ]\n",
            "\n",
            "Number of Iterations (Policy Iteration): 4\n"
          ]
        }
      ]
    },
    {
      "cell_type": "markdown",
      "metadata": {
        "id": "37b9330e"
      },
      "source": [
        "## Implement value iteration\n",
        "\n",
        "### Subtask:\n",
        "Implement the value iteration algorithm to find the optimal policy for the FrozenLake environment.\n"
      ]
    },
    {
      "cell_type": "markdown",
      "metadata": {
        "id": "a5ded81d"
      },
      "source": [
        "**Reasoning**:\n",
        "I will now implement the value iteration algorithm as a function `value_iteration` and then call it to find the optimal policy and value function for the FrozenLake environment. Finally, I will print the results as requested in the instructions.\n",
        "\n"
      ]
    },
    {
      "cell_type": "code",
      "metadata": {
        "colab": {
          "base_uri": "https://localhost:8080/"
        },
        "id": "f52625ae",
        "outputId": "c67f099f-6c9b-48a0-cc9f-564f85bd3149"
      },
      "source": [
        "def value_iteration(env, gamma=1.0, theta=1e-6):\n",
        "    \"\"\"\n",
        "    Implements the value iteration algorithm.\n",
        "\n",
        "    Args:\n",
        "        env: The OpenAI Gym environment.\n",
        "        gamma: The discount factor.\n",
        "        theta: The convergence threshold.\n",
        "\n",
        "    Returns:\n",
        "        optimal_policy: The optimal policy.\n",
        "        optimal_value_function: The optimal value function.\n",
        "        num_iterations: The number of iterations to convergence.\n",
        "    \"\"\"\n",
        "    num_states = env.observation_space.n\n",
        "    num_actions = env.action_space.n\n",
        "\n",
        "    # 1. Initialize the value function\n",
        "    value_function = np.zeros(num_states)\n",
        "\n",
        "    num_iterations = 0\n",
        "    while True:\n",
        "        num_iterations += 1\n",
        "        delta = 0\n",
        "        for state in range(num_states):\n",
        "            v = value_function[state]\n",
        "            action_values = np.zeros(num_actions)\n",
        "            for action in range(num_actions):\n",
        "                q_value = 0\n",
        "                for prob, next_state, reward, terminated in env.unwrapped.P[state][action]:\n",
        "                    q_value += prob * (reward + gamma * value_function[next_state] * (1 - terminated))\n",
        "                action_values[action] = q_value\n",
        "            best_action_value = np.max(action_values)\n",
        "            value_function[state] = best_action_value\n",
        "            delta = max(delta, abs(v - value_function[state]))\n",
        "\n",
        "        if delta < theta:\n",
        "            break\n",
        "\n",
        "    # 2. Derive the optimal policy\n",
        "    policy = np.zeros(num_states, dtype=int)\n",
        "    for state in range(num_states):\n",
        "        action_values = np.zeros(num_actions)\n",
        "        for action in range(num_actions):\n",
        "            q_value = 0\n",
        "            for prob, next_state, reward, terminated in env.unwrapped.P[state][action]:\n",
        "                q_value += prob * (reward + gamma * value_function[next_state] * (1 - terminated))\n",
        "            action_values[action] = q_value\n",
        "        best_action = np.argmax(action_values)\n",
        "        policy[state] = best_action\n",
        "\n",
        "    return policy, value_function, num_iterations\n",
        "\n",
        "optimal_policy_vi, optimal_value_function_vi, num_iterations_vi = value_iteration(env)\n",
        "\n",
        "print(\"Optimal Policy (Value Iteration):\")\n",
        "print(optimal_policy_vi)\n",
        "print(\"\\nOptimal Value Function (Value Iteration):\")\n",
        "print(optimal_value_function_vi)\n",
        "print(\"\\nNumber of Iterations (Value Iteration):\", num_iterations_vi)"
      ],
      "execution_count": 4,
      "outputs": [
        {
          "output_type": "stream",
          "name": "stdout",
          "text": [
            "Optimal Policy (Value Iteration):\n",
            "[0 3 3 3 0 0 0 0 3 1 0 0 0 2 1 0]\n",
            "\n",
            "Optimal Value Function (Value Iteration):\n",
            "[0.82351232 0.82350671 0.82350281 0.82350083 0.82351404 0.\n",
            " 0.52940011 0.         0.82351673 0.82352018 0.76469779 0.\n",
            " 0.         0.88234653 0.94117321 0.        ]\n",
            "\n",
            "Number of Iterations (Value Iteration): 321\n"
          ]
        }
      ]
    },
    {
      "cell_type": "markdown",
      "metadata": {
        "id": "da05fb08"
      },
      "source": [
        "## Compare iterations\n",
        "\n",
        "### Subtask:\n",
        "Compare the number of iterations for policy and value iteration.\n"
      ]
    },
    {
      "cell_type": "markdown",
      "metadata": {
        "id": "1a35fe13"
      },
      "source": [
        "**Reasoning**:\n",
        "I will now print the number of iterations for both policy and value iteration, as requested by the instructions.\n",
        "\n"
      ]
    },
    {
      "cell_type": "code",
      "metadata": {
        "colab": {
          "base_uri": "https://localhost:8080/"
        },
        "id": "2de5ab54",
        "outputId": "03d49c28-0a09-4509-8e12-e3bb054453e7"
      },
      "source": [
        "print(\"--- Comparison of Iterations ---\")\n",
        "print(f\"Policy Iteration took {num_iterations_pi} iterations to converge.\")\n",
        "print(f\"Value Iteration took {num_iterations_vi} iterations to converge.\")"
      ],
      "execution_count": 5,
      "outputs": [
        {
          "output_type": "stream",
          "name": "stdout",
          "text": [
            "--- Comparison of Iterations ---\n",
            "Policy Iteration took 4 iterations to converge.\n",
            "Value Iteration took 321 iterations to converge.\n"
          ]
        }
      ]
    },
    {
      "cell_type": "markdown",
      "metadata": {
        "id": "30561677"
      },
      "source": [
        "## Visualize results\n",
        "\n",
        "### Subtask:\n",
        "Create heatmaps to visualize the state-value functions for both policy iteration and value iteration.\n"
      ]
    },
    {
      "cell_type": "markdown",
      "metadata": {
        "id": "f4dab94b"
      },
      "source": [
        "**Reasoning**:\n",
        "I will now create the heatmaps to visualize the state-value functions. I will reshape the value function arrays, create a figure with two subplots, and then use seaborn to generate the heatmaps with appropriate titles. Finally, I will display the plots.\n",
        "\n"
      ]
    },
    {
      "cell_type": "code",
      "metadata": {
        "colab": {
          "base_uri": "https://localhost:8080/",
          "height": 468
        },
        "id": "1a3bd187",
        "outputId": "b8343821-e1ad-4e99-a2c9-ee371b04f7db"
      },
      "source": [
        "value_function_pi_reshaped = optimal_value_function_pi.reshape((4, 4))\n",
        "value_function_vi_reshaped = optimal_value_function_vi.reshape((4, 4))\n",
        "\n",
        "fig, (ax1, ax2) = plt.subplots(1, 2, figsize=(12, 5))\n",
        "\n",
        "sns.heatmap(value_function_pi_reshaped, annot=True, fmt=\".3f\", cmap=\"YlGnBu\", ax=ax1)\n",
        "ax1.set_title(\"Policy Iteration State-Value Function\")\n",
        "\n",
        "sns.heatmap(value_function_vi_reshaped, annot=True, fmt=\".3f\", cmap=\"YlGnBu\", ax=ax2)\n",
        "ax2.set_title(\"Value Iteration State-Value Function\")\n",
        "\n",
        "plt.show()"
      ],
      "execution_count": 6,
      "outputs": [
        {
          "output_type": "display_data",
          "data": {
            "text/plain": [
              "<Figure size 1200x500 with 4 Axes>"
            ],
            "image/png": "[encoded data removed]"
          },
          "metadata": {}
        }
      ]
    },
    {
      "cell_type": "markdown",
      "metadata": {
        "id": "9c82753d"
      },
      "source": [
        "## Summary:\n",
        "\n",
        "### Data Analysis Key Findings\n",
        "\n",
        "*   Policy iteration converged to the optimal policy and value function in 4 iterations.\n",
        "*   Value iteration converged to the optimal policy and value function in 321 iterations.\n",
        "*   For the FrozenLake environment with the given parameters, policy iteration converged significantly faster than value iteration in terms of the number of algorithm iterations.\n",
        "*   The optimal value functions derived from both policy iteration and value iteration are very similar, as visualized by the heatmaps. States closer to the goal and safer states have higher values.\n",
        "\n",
        "### Insights or Next Steps\n",
        "\n",
        "*   Policy iteration might be more efficient than value iteration for environments where the policy stabilizes quickly.\n",
        "*   Investigate the convergence behavior of these algorithms on larger or more complex environments to see if the difference in iteration count persists.\n"
      ]
    }
  ]
}