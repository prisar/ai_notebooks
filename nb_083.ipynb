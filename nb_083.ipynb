{
  "nbformat": 4,
  "nbformat_minor": 0,
  "metadata": {
    "colab": {
      "provenance": [],
      "gpuType": "T4",
      "authorship_tag": "ABX9TyNhp2vpq/82I5zgt0fFTfOi",
      "include_colab_link": true
    },
    "kernelspec": {
      "name": "python3",
      "display_name": "Python 3"
    },
    "language_info": {
      "name": "python"
    },
    "accelerator": "GPU"
  },
  "cells": [
    {
      "cell_type": "markdown",
      "metadata": {
        "id": "view-in-github",
        "colab_type": "text"
      },
      "source": [
        "<a href=\"https://colab.research.google.com/github/prisar/ai_notebooks/blob/main/nb_083.ipynb\" target=\"_parent\"><img src=\"https://colab.research.google.com/assets/colab-badge.svg\" alt=\"Open In Colab\"/></a>"
      ]
    },
    {
      "cell_type": "code",
      "execution_count": null,
      "metadata": {
        "id": "25ER6Snctae3"
      },
      "outputs": [],
      "source": []
    },
    {
      "cell_type": "markdown",
      "metadata": {
        "id": "43a22073"
      },
      "source": [
        "# Task\n",
        "Implement and compare the performance of Q-learning and SARSA algorithms on the `CliffWalking-v0` environment. Your solution should include:\n",
        "\n",
        "1.  Full implementations of both the Q-learning and SARSA algorithms.\n",
        "2.  A plot comparing the learning curves (rewards per episode) of both algorithms.\n",
        "3.  Visualizations of the final learned policies for both Q-learning and SARSA."
      ]
    },
    {
      "cell_type": "markdown",
      "metadata": {
        "id": "c1ed1113"
      },
      "source": [
        "## Environment setup\n",
        "\n",
        "### Subtask:\n",
        "Import necessary libraries and set up the `CliffWalking-v0` environment.\n"
      ]
    },
    {
      "cell_type": "markdown",
      "metadata": {
        "id": "8e511cb0"
      },
      "source": [
        "**Reasoning**:\n",
        "I will import the necessary libraries, create the `CliffWalking-v0` environment, reset it to get the initial state, and then print the number of actions and states to verify the setup, as requested in the instructions.\n",
        "\n"
      ]
    },
    {
      "cell_type": "code",
      "metadata": {
        "colab": {
          "base_uri": "https://localhost:8080/"
        },
        "id": "df2466eb",
        "outputId": "e69277c3-e48f-4c9d-baf1-79fceb2852eb"
      },
      "source": [
        "import gym\n",
        "import numpy as np\n",
        "import matplotlib.pyplot as plt\n",
        "\n",
        "env = gym.make('CliffWalking-v0')\n",
        "initial_state = env.reset()\n",
        "\n",
        "print(f\"Number of actions: {env.action_space.n}\")\n",
        "print(f\"Number of states: {env.observation_space.n}\")"
      ],
      "execution_count": 1,
      "outputs": [
        {
          "output_type": "stream",
          "name": "stdout",
          "text": [
            "Number of actions: 4\n",
            "Number of states: 48\n"
          ]
        },
        {
          "output_type": "stream",
          "name": "stderr",
          "text": [
            "/usr/local/lib/python3.11/dist-packages/gym/core.py:317: DeprecationWarning: \u001b[33mWARN: Initializing wrapper in old step API which returns one bool instead of two. It is recommended to set `new_step_api=True` to use new step API. This will be the default behaviour in future.\u001b[0m\n",
            "  deprecation(\n",
            "/usr/local/lib/python3.11/dist-packages/gym/wrappers/step_api_compatibility.py:39: DeprecationWarning: \u001b[33mWARN: Initializing environment in old step API which returns one bool instead of two. It is recommended to set `new_step_api=True` to use new step API. This will be the default behaviour in future.\u001b[0m\n",
            "  deprecation(\n"
          ]
        }
      ]
    },
    {
      "cell_type": "markdown",
      "metadata": {
        "id": "36c069a0"
      },
      "source": [
        "## Q-learning implementation\n",
        "\n",
        "### Subtask:\n",
        "Implement the Q-learning algorithm.\n"
      ]
    },
    {
      "cell_type": "markdown",
      "metadata": {
        "id": "29b854a3"
      },
      "source": [
        "**Reasoning**:\n",
        "I will now implement the Q-learning algorithm as requested in the subtask. This involves initializing the Q-table, defining the hyperparameters, creating the epsilon-greedy policy function, and implementing the Q-learning update rule, all within a single code block for efficiency.\n",
        "\n"
      ]
    },
    {
      "cell_type": "code",
      "metadata": {
        "colab": {
          "base_uri": "https://localhost:8080/",
          "height": 350
        },
        "id": "13f4980e",
        "outputId": "0ae4b4fa-d20b-4165-e80b-792007bca7cc"
      },
      "source": [
        "# Q-learning parameters\n",
        "alpha = 0.5  # Learning rate\n",
        "gamma = 0.9  # Discount factor\n",
        "epsilon = 0.1  # Epsilon for epsilon-greedy policy\n",
        "num_episodes = 500\n",
        "\n",
        "# Initialize Q-table\n",
        "q_table = np.zeros((env.observation_space.n, env.action_space.n))\n",
        "\n",
        "def epsilon_greedy_policy(state, q_table, epsilon):\n",
        "    \"\"\"\n",
        "    Epsilon-greedy policy for action selection.\n",
        "\n",
        "    Args:\n",
        "        state: The current state.\n",
        "        q_table: The Q-table.\n",
        "        epsilon: The probability of choosing a random action.\n",
        "\n",
        "    Returns:\n",
        "        The chosen action.\n",
        "    \"\"\"\n",
        "    if np.random.uniform(0, 1) < epsilon:\n",
        "        return env.action_space.sample()  # Choose a random action\n",
        "    else:\n",
        "        return np.argmax(q_table[state, :])  # Choose the best action\n",
        "\n",
        "def q_learning_update(state, action, reward, next_state, q_table, alpha, gamma):\n",
        "    \"\"\"\n",
        "    Q-learning update rule.\n",
        "\n",
        "    Args:\n",
        "        state: The current state.\n",
        "        action: The action taken.\n",
        "        reward: The reward received.\n",
        "        next_state: The next state.\n",
        "        q_table: The Q-table.\n",
        "        alpha: The learning rate.\n",
        "        gamma: The discount factor.\n",
        "    \"\"\"\n",
        "    best_next_action = np.argmax(q_table[next_state, :])\n",
        "    td_target = reward + gamma * q_table[next_state, best_next_action]\n",
        "    td_error = td_target - q_table[state, action]\n",
        "    q_table[state, action] += alpha * td_error\n",
        "\n",
        "# Training the Q-learning agent\n",
        "rewards_q_learning = []\n",
        "\n",
        "for episode in range(num_episodes):\n",
        "    state = env.reset()\n",
        "    total_reward = 0\n",
        "    done = False\n",
        "\n",
        "    while not done:\n",
        "        action = epsilon_greedy_policy(state, q_table, epsilon)\n",
        "        next_state, reward, done, _ = env.step(action)\n",
        "        q_learning_update(state, action, reward, next_state, q_table, alpha, gamma)\n",
        "        state = next_state\n",
        "        total_reward += reward\n",
        "\n",
        "    rewards_q_learning.append(total_reward)\n",
        "\n",
        "print(\"Q-learning training finished.\")"
      ],
      "execution_count": 2,
      "outputs": [
        {
          "output_type": "error",
          "ename": "AttributeError",
          "evalue": "module 'numpy' has no attribute 'bool8'",
          "traceback": [
            "\u001b[0;31m---------------------------------------------------------------------------\u001b[0m",
            "\u001b[0;31mAttributeError\u001b[0m                            Traceback (most recent call last)",
            "\u001b[0;32m/tmp/ipython-input-2-2740280819.py\u001b[0m in \u001b[0;36m<cell line: 0>\u001b[0;34m()\u001b[0m\n\u001b[1;32m     53\u001b[0m     \u001b[0;32mwhile\u001b[0m \u001b[0;32mnot\u001b[0m \u001b[0mdone\u001b[0m\u001b[0;34m:\u001b[0m\u001b[0;34m\u001b[0m\u001b[0;34m\u001b[0m\u001b[0m\n\u001b[1;32m     54\u001b[0m         \u001b[0maction\u001b[0m \u001b[0;34m=\u001b[0m \u001b[0mepsilon_greedy_policy\u001b[0m\u001b[0;34m(\u001b[0m\u001b[0mstate\u001b[0m\u001b[0;34m,\u001b[0m \u001b[0mq_table\u001b[0m\u001b[0;34m,\u001b[0m \u001b[0mepsilon\u001b[0m\u001b[0;34m)\u001b[0m\u001b[0;34m\u001b[0m\u001b[0;34m\u001b[0m\u001b[0m\n\u001b[0;32m---> 55\u001b[0;31m         \u001b[0mnext_state\u001b[0m\u001b[0;34m,\u001b[0m \u001b[0mreward\u001b[0m\u001b[0;34m,\u001b[0m \u001b[0mdone\u001b[0m\u001b[0;34m,\u001b[0m \u001b[0m_\u001b[0m \u001b[0;34m=\u001b[0m \u001b[0menv\u001b[0m\u001b[0;34m.\u001b[0m\u001b[0mstep\u001b[0m\u001b[0;34m(\u001b[0m\u001b[0maction\u001b[0m\u001b[0;34m)\u001b[0m\u001b[0;34m\u001b[0m\u001b[0;34m\u001b[0m\u001b[0m\n\u001b[0m\u001b[1;32m     56\u001b[0m         \u001b[0mq_learning_update\u001b[0m\u001b[0;34m(\u001b[0m\u001b[0mstate\u001b[0m\u001b[0;34m,\u001b[0m \u001b[0maction\u001b[0m\u001b[0;34m,\u001b[0m \u001b[0mreward\u001b[0m\u001b[0;34m,\u001b[0m \u001b[0mnext_state\u001b[0m\u001b[0;34m,\u001b[0m \u001b[0mq_table\u001b[0m\u001b[0;34m,\u001b[0m \u001b[0malpha\u001b[0m\u001b[0;34m,\u001b[0m \u001b[0mgamma\u001b[0m\u001b[0;34m)\u001b[0m\u001b[0;34m\u001b[0m\u001b[0;34m\u001b[0m\u001b[0m\n\u001b[1;32m     57\u001b[0m         \u001b[0mstate\u001b[0m \u001b[0;34m=\u001b[0m \u001b[0mnext_state\u001b[0m\u001b[0;34m\u001b[0m\u001b[0;34m\u001b[0m\u001b[0m\n",
            "\u001b[0;32m/usr/local/lib/python3.11/dist-packages/gym/wrappers/order_enforcing.py\u001b[0m in \u001b[0;36mstep\u001b[0;34m(self, action)\u001b[0m\n\u001b[1;32m     35\u001b[0m         \u001b[0;32mif\u001b[0m \u001b[0;32mnot\u001b[0m \u001b[0mself\u001b[0m\u001b[0;34m.\u001b[0m\u001b[0m_has_reset\u001b[0m\u001b[0;34m:\u001b[0m\u001b[0;34m\u001b[0m\u001b[0;34m\u001b[0m\u001b[0m\n\u001b[1;32m     36\u001b[0m             \u001b[0;32mraise\u001b[0m \u001b[0mResetNeeded\u001b[0m\u001b[0;34m(\u001b[0m\u001b[0;34m\"Cannot call env.step() before calling env.reset()\"\u001b[0m\u001b[0;34m)\u001b[0m\u001b[0;34m\u001b[0m\u001b[0;34m\u001b[0m\u001b[0m\n\u001b[0;32m---> 37\u001b[0;31m         \u001b[0;32mreturn\u001b[0m \u001b[0mself\u001b[0m\u001b[0;34m.\u001b[0m\u001b[0menv\u001b[0m\u001b[0;34m.\u001b[0m\u001b[0mstep\u001b[0m\u001b[0;34m(\u001b[0m\u001b[0maction\u001b[0m\u001b[0;34m)\u001b[0m\u001b[0;34m\u001b[0m\u001b[0;34m\u001b[0m\u001b[0m\n\u001b[0m\u001b[1;32m     38\u001b[0m \u001b[0;34m\u001b[0m\u001b[0m\n\u001b[1;32m     39\u001b[0m     \u001b[0;32mdef\u001b[0m \u001b[0mreset\u001b[0m\u001b[0;34m(\u001b[0m\u001b[0mself\u001b[0m\u001b[0;34m,\u001b[0m \u001b[0;34m**\u001b[0m\u001b[0mkwargs\u001b[0m\u001b[0;34m)\u001b[0m\u001b[0;34m:\u001b[0m\u001b[0;34m\u001b[0m\u001b[0;34m\u001b[0m\u001b[0m\n",
            "\u001b[0;32m/usr/local/lib/python3.11/dist-packages/gym/wrappers/step_api_compatibility.py\u001b[0m in \u001b[0;36mstep\u001b[0;34m(self, action)\u001b[0m\n\u001b[1;32m     50\u001b[0m             \u001b[0;34m(\u001b[0m\u001b[0mobservation\u001b[0m\u001b[0;34m,\u001b[0m \u001b[0mreward\u001b[0m\u001b[0;34m,\u001b[0m \u001b[0mterminated\u001b[0m\u001b[0;34m,\u001b[0m \u001b[0mtruncated\u001b[0m\u001b[0;34m,\u001b[0m \u001b[0minfo\u001b[0m\u001b[0;34m)\u001b[0m \u001b[0;32mor\u001b[0m \u001b[0;34m(\u001b[0m\u001b[0mobservation\u001b[0m\u001b[0;34m,\u001b[0m \u001b[0mreward\u001b[0m\u001b[0;34m,\u001b[0m \u001b[0mdone\u001b[0m\u001b[0;34m,\u001b[0m \u001b[0minfo\u001b[0m\u001b[0;34m)\u001b[0m\u001b[0;34m\u001b[0m\u001b[0;34m\u001b[0m\u001b[0m\n\u001b[1;32m     51\u001b[0m         \"\"\"\n\u001b[0;32m---> 52\u001b[0;31m         \u001b[0mstep_returns\u001b[0m \u001b[0;34m=\u001b[0m \u001b[0mself\u001b[0m\u001b[0;34m.\u001b[0m\u001b[0menv\u001b[0m\u001b[0;34m.\u001b[0m\u001b[0mstep\u001b[0m\u001b[0;34m(\u001b[0m\u001b[0maction\u001b[0m\u001b[0;34m)\u001b[0m\u001b[0;34m\u001b[0m\u001b[0;34m\u001b[0m\u001b[0m\n\u001b[0m\u001b[1;32m     53\u001b[0m         \u001b[0;32mif\u001b[0m \u001b[0mself\u001b[0m\u001b[0;34m.\u001b[0m\u001b[0mnew_step_api\u001b[0m\u001b[0;34m:\u001b[0m\u001b[0;34m\u001b[0m\u001b[0;34m\u001b[0m\u001b[0m\n\u001b[1;32m     54\u001b[0m             \u001b[0;32mreturn\u001b[0m \u001b[0mstep_to_new_api\u001b[0m\u001b[0;34m(\u001b[0m\u001b[0mstep_returns\u001b[0m\u001b[0;34m)\u001b[0m\u001b[0;34m\u001b[0m\u001b[0;34m\u001b[0m\u001b[0m\n",
            "\u001b[0;32m/usr/local/lib/python3.11/dist-packages/gym/wrappers/env_checker.py\u001b[0m in \u001b[0;36mstep\u001b[0;34m(self, action)\u001b[0m\n\u001b[1;32m     35\u001b[0m         \u001b[0;32mif\u001b[0m \u001b[0mself\u001b[0m\u001b[0;34m.\u001b[0m\u001b[0mchecked_step\u001b[0m \u001b[0;32mis\u001b[0m \u001b[0;32mFalse\u001b[0m\u001b[0;34m:\u001b[0m\u001b[0;34m\u001b[0m\u001b[0;34m\u001b[0m\u001b[0m\n\u001b[1;32m     36\u001b[0m             \u001b[0mself\u001b[0m\u001b[0;34m.\u001b[0m\u001b[0mchecked_step\u001b[0m \u001b[0;34m=\u001b[0m \u001b[0;32mTrue\u001b[0m\u001b[0;34m\u001b[0m\u001b[0;34m\u001b[0m\u001b[0m\n\u001b[0;32m---> 37\u001b[0;31m             \u001b[0;32mreturn\u001b[0m \u001b[0menv_step_passive_checker\u001b[0m\u001b[0;34m(\u001b[0m\u001b[0mself\u001b[0m\u001b[0;34m.\u001b[0m\u001b[0menv\u001b[0m\u001b[0;34m,\u001b[0m \u001b[0maction\u001b[0m\u001b[0;34m)\u001b[0m\u001b[0;34m\u001b[0m\u001b[0;34m\u001b[0m\u001b[0m\n\u001b[0m\u001b[1;32m     38\u001b[0m         \u001b[0;32melse\u001b[0m\u001b[0;34m:\u001b[0m\u001b[0;34m\u001b[0m\u001b[0;34m\u001b[0m\u001b[0m\n\u001b[1;32m     39\u001b[0m             \u001b[0;32mreturn\u001b[0m \u001b[0mself\u001b[0m\u001b[0;34m.\u001b[0m\u001b[0menv\u001b[0m\u001b[0;34m.\u001b[0m\u001b[0mstep\u001b[0m\u001b[0;34m(\u001b[0m\u001b[0maction\u001b[0m\u001b[0;34m)\u001b[0m\u001b[0;34m\u001b[0m\u001b[0;34m\u001b[0m\u001b[0m\n",
            "\u001b[0;32m/usr/local/lib/python3.11/dist-packages/gym/utils/passive_env_checker.py\u001b[0m in \u001b[0;36menv_step_passive_checker\u001b[0;34m(env, action)\u001b[0m\n\u001b[1;32m    239\u001b[0m \u001b[0;34m\u001b[0m\u001b[0m\n\u001b[1;32m    240\u001b[0m         \u001b[0;31m# np.bool is actual python bool not np boolean type, therefore bool_ or bool8\u001b[0m\u001b[0;34m\u001b[0m\u001b[0;34m\u001b[0m\u001b[0m\n\u001b[0;32m--> 241\u001b[0;31m         \u001b[0;32mif\u001b[0m \u001b[0;32mnot\u001b[0m \u001b[0misinstance\u001b[0m\u001b[0;34m(\u001b[0m\u001b[0mterminated\u001b[0m\u001b[0;34m,\u001b[0m \u001b[0;34m(\u001b[0m\u001b[0mbool\u001b[0m\u001b[0;34m,\u001b[0m \u001b[0mnp\u001b[0m\u001b[0;34m.\u001b[0m\u001b[0mbool8\u001b[0m\u001b[0;34m)\u001b[0m\u001b[0;34m)\u001b[0m\u001b[0;34m:\u001b[0m\u001b[0;34m\u001b[0m\u001b[0;34m\u001b[0m\u001b[0m\n\u001b[0m\u001b[1;32m    242\u001b[0m             logger.warn(\n\u001b[1;32m    243\u001b[0m                 \u001b[0;34mf\"Expects `terminated` signal to be a boolean, actual type: {type(terminated)}\"\u001b[0m\u001b[0;34m\u001b[0m\u001b[0;34m\u001b[0m\u001b[0m\n",
            "\u001b[0;32m/usr/local/lib/python3.11/dist-packages/numpy/__init__.py\u001b[0m in \u001b[0;36m__getattr__\u001b[0;34m(attr)\u001b[0m\n\u001b[1;32m    408\u001b[0m             \u001b[0;32mreturn\u001b[0m \u001b[0mchar\u001b[0m\u001b[0;34m.\u001b[0m\u001b[0mchararray\u001b[0m\u001b[0;34m\u001b[0m\u001b[0;34m\u001b[0m\u001b[0m\n\u001b[1;32m    409\u001b[0m \u001b[0;34m\u001b[0m\u001b[0m\n\u001b[0;32m--> 410\u001b[0;31m         raise AttributeError(\"module {!r} has no attribute \"\n\u001b[0m\u001b[1;32m    411\u001b[0m                              \"{!r}\".format(__name__, attr))\n\u001b[1;32m    412\u001b[0m \u001b[0;34m\u001b[0m\u001b[0m\n",
            "\u001b[0;31mAttributeError\u001b[0m: module 'numpy' has no attribute 'bool8'"
          ]
        }
      ]
    },
    {
      "cell_type": "markdown",
      "metadata": {
        "id": "a733789c"
      },
      "source": [
        "**Reasoning**:\n",
        "The previous code failed due to an `AttributeError: module 'numpy' has no attribute 'bool8'`. This error is likely caused by an incompatibility between the versions of `gym` and `numpy` installed in the environment. Specifically, a newer version of `gym` might be trying to use a deprecated `numpy` type. The simplest way to fix this is to downgrade `gym` to a version that is known to be compatible with the existing `numpy` version. I will start by installing a specific version of `gym`.\n",
        "\n"
      ]
    },
    {
      "cell_type": "code",
      "metadata": {
        "colab": {
          "base_uri": "https://localhost:8080/"
        },
        "id": "bGW4urn2ts7t",
        "outputId": "9984b2cd-1abe-4bd9-9942-2b758360a2e5"
      },
      "source": [
        "!pip install gym==0.25.2"
      ],
      "execution_count": 3,
      "outputs": [
        {
          "output_type": "stream",
          "name": "stdout",
          "text": [
            "Requirement already satisfied: gym==0.25.2 in /usr/local/lib/python3.11/dist-packages (0.25.2)\n",
            "Requirement already satisfied: numpy>=1.18.0 in /usr/local/lib/python3.11/dist-packages (from gym==0.25.2) (2.0.2)\n",
            "Requirement already satisfied: cloudpickle>=1.2.0 in /usr/local/lib/python3.11/dist-packages (from gym==0.25.2) (3.1.1)\n",
            "Requirement already satisfied: gym-notices>=0.0.4 in /usr/local/lib/python3.11/dist-packages (from gym==0.25.2) (0.0.8)\n"
          ]
        }
      ]
    },
    {
      "cell_type": "markdown",
      "metadata": {
        "id": "723a03bb"
      },
      "source": [
        "**Reasoning**:\n",
        "Since `gym==0.25.2` is already installed, the error is not due to the gym version itself but rather an incompatibility with a newer `numpy` version. The error message `AttributeError: module 'numpy' has no attribute 'bool8'` suggests that `numpy.bool8` has been deprecated or removed in the installed `numpy` version (2.0.2). To resolve this, I will downgrade `numpy` to a version that is known to be compatible with `gym==0.25.2`, such as `1.23.5`. After downgrading numpy, I will re-run the Q-learning implementation.\n",
        "\n"
      ]
    },
    {
      "cell_type": "code",
      "metadata": {
        "colab": {
          "base_uri": "https://localhost:8080/",
          "height": 694
        },
        "id": "e5051be0",
        "outputId": "e902bc08-eca1-4dbe-8837-a81124e1047f"
      },
      "source": [
        "!pip install numpy==1.23.5"
      ],
      "execution_count": 4,
      "outputs": [
        {
          "output_type": "stream",
          "name": "stdout",
          "text": [
            "Collecting numpy==1.23.5\n",
            "  Downloading numpy-1.23.5-cp311-cp311-manylinux_2_17_x86_64.manylinux2014_x86_64.whl.metadata (2.3 kB)\n",
            "Downloading numpy-1.23.5-cp311-cp311-manylinux_2_17_x86_64.manylinux2014_x86_64.whl (17.1 MB)\n",
            "\u001b[2K   \u001b[90m━━━━━━━━━━━━━━━━━━━━━━━━━━━━━━━━━━━━━━━━\u001b[0m \u001b[32m17.1/17.1 MB\u001b[0m \u001b[31m109.0 MB/s\u001b[0m eta \u001b[36m0:00:00\u001b[0m\n",
            "\u001b[?25hInstalling collected packages: numpy\n",
            "  Attempting uninstall: numpy\n",
            "    Found existing installation: numpy 2.0.2\n",
            "    Uninstalling numpy-2.0.2:\n",
            "      Successfully uninstalled numpy-2.0.2\n",
            "\u001b[31mERROR: pip's dependency resolver does not currently take into account all the packages that are installed. This behaviour is the source of the following dependency conflicts.\n",
            "db-dtypes 1.4.3 requires numpy>=1.24.0, but you have numpy 1.23.5 which is incompatible.\n",
            "pymc 5.25.1 requires numpy>=1.25.0, but you have numpy 1.23.5 which is incompatible.\n",
            "treescope 0.1.9 requires numpy>=1.25.2, but you have numpy 1.23.5 which is incompatible.\n",
            "albumentations 2.0.8 requires numpy>=1.24.4, but you have numpy 1.23.5 which is incompatible.\n",
            "opencv-contrib-python 4.12.0.88 requires numpy<2.3.0,>=2; python_version >= \"3.9\", but you have numpy 1.23.5 which is incompatible.\n",
            "albucore 0.0.24 requires numpy>=1.24.4, but you have numpy 1.23.5 which is incompatible.\n",
            "tensorflow 2.18.0 requires numpy<2.1.0,>=1.26.0, but you have numpy 1.23.5 which is incompatible.\n",
            "thinc 8.3.6 requires numpy<3.0.0,>=2.0.0, but you have numpy 1.23.5 which is incompatible.\n",
            "scipy 1.16.0 requires numpy<2.6,>=1.25.2, but you have numpy 1.23.5 which is incompatible.\n",
            "xarray 2025.7.1 requires numpy>=1.26, but you have numpy 1.23.5 which is incompatible.\n",
            "geopandas 1.1.1 requires numpy>=1.24, but you have numpy 1.23.5 which is incompatible.\n",
            "jaxlib 0.5.1 requires numpy>=1.25, but you have numpy 1.23.5 which is incompatible.\n",
            "arviz 0.22.0 requires numpy>=1.26.0, but you have numpy 1.23.5 which is incompatible.\n",
            "chex 0.1.90 requires numpy>=1.24.1, but you have numpy 1.23.5 which is incompatible.\n",
            "jax 0.5.2 requires numpy>=1.25, but you have numpy 1.23.5 which is incompatible.\n",
            "xarray-einstats 0.9.1 requires numpy>=1.25, but you have numpy 1.23.5 which is incompatible.\n",
            "scikit-image 0.25.2 requires numpy>=1.24, but you have numpy 1.23.5 which is incompatible.\n",
            "blosc2 3.6.1 requires numpy>=1.26, but you have numpy 1.23.5 which is incompatible.\n",
            "opencv-python-headless 4.12.0.88 requires numpy<2.3.0,>=2; python_version >= \"3.9\", but you have numpy 1.23.5 which is incompatible.\n",
            "imbalanced-learn 0.13.0 requires numpy<3,>=1.24.3, but you have numpy 1.23.5 which is incompatible.\n",
            "bigframes 2.12.0 requires numpy>=1.24.0, but you have numpy 1.23.5 which is incompatible.\n",
            "opencv-python 4.12.0.88 requires numpy<2.3.0,>=2; python_version >= \"3.9\", but you have numpy 1.23.5 which is incompatible.\u001b[0m\u001b[31m\n",
            "\u001b[0mSuccessfully installed numpy-1.23.5\n"
          ]
        },
        {
          "output_type": "display_data",
          "data": {
            "application/vnd.colab-display-data+json": {
              "pip_warning": {
                "packages": [
                  "numpy"
                ]
              },
              "id": "193317a1d48a493085e7cc80d4833538"
            }
          },
          "metadata": {}
        }
      ]
    },
    {
      "cell_type": "markdown",
      "metadata": {
        "id": "8f293573"
      },
      "source": [
        "**Reasoning**:\n",
        "Now that `numpy` has been downgraded to a compatible version, I will re-run the Q-learning implementation code. This will initialize the Q-table, define the hyperparameters, and train the Q-learning agent as originally intended. I will also add a line to print the shape of the Q-table to verify its dimensions.\n",
        "\n"
      ]
    },
    {
      "cell_type": "code",
      "metadata": {
        "colab": {
          "base_uri": "https://localhost:8080/",
          "height": 455
        },
        "id": "e46a382f",
        "outputId": "a1a1d5ff-87a3-4892-80b0-325fb20712f9"
      },
      "source": [
        "import gym\n",
        "import numpy as np\n",
        "import matplotlib.pyplot as plt\n",
        "\n",
        "env = gym.make('CliffWalking-v0')\n",
        "initial_state = env.reset()\n",
        "\n",
        "# Q-learning parameters\n",
        "alpha = 0.5  # Learning rate\n",
        "gamma = 0.9  # Discount factor\n",
        "epsilon = 0.1  # Epsilon for epsilon-greedy policy\n",
        "num_episodes = 500\n",
        "\n",
        "# Initialize Q-table\n",
        "q_table = np.zeros((env.observation_space.n, env.action_space.n))\n",
        "print(f\"Q-table shape: {q_table.shape}\")\n",
        "\n",
        "def epsilon_greedy_policy(state, q_table, epsilon):\n",
        "    \"\"\"\n",
        "    Epsilon-greedy policy for action selection.\n",
        "\n",
        "    Args:\n",
        "        state: The current state.\n",
        "        q_table: The Q-table.\n",
        "        epsilon: The probability of choosing a random action.\n",
        "\n",
        "    Returns:\n",
        "        The chosen action.\n",
        "    \"\"\"\n",
        "    if np.random.uniform(0, 1) < epsilon:\n",
        "        return env.action_space.sample()  # Choose a random action\n",
        "    else:\n",
        "        return np.argmax(q_table[state, :])  # Choose the best action\n",
        "\n",
        "def q_learning_update(state, action, reward, next_state, q_table, alpha, gamma):\n",
        "    \"\"\"\n",
        "    Q-learning update rule.\n",
        "\n",
        "    Args:\n",
        "        state: The current state.\n",
        "        action: The action taken.\n",
        "        reward: The reward received.\n",
        "        next_state: The next state.\n",
        "        q_table: The Q-table.\n",
        "        alpha: The learning rate.\n",
        "        gamma: The discount factor.\n",
        "    \"\"\"\n",
        "    best_next_action = np.argmax(q_table[next_state, :])\n",
        "    td_target = reward + gamma * q_table[next_state, best_next_action]\n",
        "    td_error = td_target - q_table[state, action]\n",
        "    q_table[state, action] += alpha * td_error\n",
        "\n",
        "# Training the Q-learning agent\n",
        "rewards_q_learning = []\n",
        "\n",
        "for episode in range(num_episodes):\n",
        "    state = env.reset()\n",
        "    total_reward = 0\n",
        "    done = False\n",
        "\n",
        "    while not done:\n",
        "        action = epsilon_greedy_policy(state, q_table, epsilon)\n",
        "        next_state, reward, done, _ = env.step(action)\n",
        "        q_learning_update(state, action, reward, next_state, q_table, alpha, gamma)\n",
        "        state = next_state\n",
        "        total_reward += reward\n",
        "\n",
        "    rewards_q_learning.append(total_reward)\n",
        "\n",
        "print(\"Q-learning training finished.\")"
      ],
      "execution_count": 5,
      "outputs": [
        {
          "output_type": "stream",
          "name": "stdout",
          "text": [
            "Q-table shape: (48, 4)\n"
          ]
        },
        {
          "output_type": "stream",
          "name": "stderr",
          "text": [
            "/usr/local/lib/python3.11/dist-packages/gym/core.py:317: DeprecationWarning: \u001b[33mWARN: Initializing wrapper in old step API which returns one bool instead of two. It is recommended to set `new_step_api=True` to use new step API. This will be the default behaviour in future.\u001b[0m\n",
            "  deprecation(\n",
            "/usr/local/lib/python3.11/dist-packages/gym/wrappers/step_api_compatibility.py:39: DeprecationWarning: \u001b[33mWARN: Initializing environment in old step API which returns one bool instead of two. It is recommended to set `new_step_api=True` to use new step API. This will be the default behaviour in future.\u001b[0m\n",
            "  deprecation(\n"
          ]
        },
        {
          "output_type": "error",
          "ename": "AttributeError",
          "evalue": "module 'numpy' has no attribute 'bool8'",
          "traceback": [
            "\u001b[0;31m---------------------------------------------------------------------------\u001b[0m",
            "\u001b[0;31mAttributeError\u001b[0m                            Traceback (most recent call last)",
            "\u001b[0;32m/tmp/ipython-input-5-3238734627.py\u001b[0m in \u001b[0;36m<cell line: 0>\u001b[0;34m()\u001b[0m\n\u001b[1;32m     61\u001b[0m     \u001b[0;32mwhile\u001b[0m \u001b[0;32mnot\u001b[0m \u001b[0mdone\u001b[0m\u001b[0;34m:\u001b[0m\u001b[0;34m\u001b[0m\u001b[0;34m\u001b[0m\u001b[0m\n\u001b[1;32m     62\u001b[0m         \u001b[0maction\u001b[0m \u001b[0;34m=\u001b[0m \u001b[0mepsilon_greedy_policy\u001b[0m\u001b[0;34m(\u001b[0m\u001b[0mstate\u001b[0m\u001b[0;34m,\u001b[0m \u001b[0mq_table\u001b[0m\u001b[0;34m,\u001b[0m \u001b[0mepsilon\u001b[0m\u001b[0;34m)\u001b[0m\u001b[0;34m\u001b[0m\u001b[0;34m\u001b[0m\u001b[0m\n\u001b[0;32m---> 63\u001b[0;31m         \u001b[0mnext_state\u001b[0m\u001b[0;34m,\u001b[0m \u001b[0mreward\u001b[0m\u001b[0;34m,\u001b[0m \u001b[0mdone\u001b[0m\u001b[0;34m,\u001b[0m \u001b[0m_\u001b[0m \u001b[0;34m=\u001b[0m \u001b[0menv\u001b[0m\u001b[0;34m.\u001b[0m\u001b[0mstep\u001b[0m\u001b[0;34m(\u001b[0m\u001b[0maction\u001b[0m\u001b[0;34m)\u001b[0m\u001b[0;34m\u001b[0m\u001b[0;34m\u001b[0m\u001b[0m\n\u001b[0m\u001b[1;32m     64\u001b[0m         \u001b[0mq_learning_update\u001b[0m\u001b[0;34m(\u001b[0m\u001b[0mstate\u001b[0m\u001b[0;34m,\u001b[0m \u001b[0maction\u001b[0m\u001b[0;34m,\u001b[0m \u001b[0mreward\u001b[0m\u001b[0;34m,\u001b[0m \u001b[0mnext_state\u001b[0m\u001b[0;34m,\u001b[0m \u001b[0mq_table\u001b[0m\u001b[0;34m,\u001b[0m \u001b[0malpha\u001b[0m\u001b[0;34m,\u001b[0m \u001b[0mgamma\u001b[0m\u001b[0;34m)\u001b[0m\u001b[0;34m\u001b[0m\u001b[0;34m\u001b[0m\u001b[0m\n\u001b[1;32m     65\u001b[0m         \u001b[0mstate\u001b[0m \u001b[0;34m=\u001b[0m \u001b[0mnext_state\u001b[0m\u001b[0;34m\u001b[0m\u001b[0;34m\u001b[0m\u001b[0m\n",
            "\u001b[0;32m/usr/local/lib/python3.11/dist-packages/gym/wrappers/order_enforcing.py\u001b[0m in \u001b[0;36mstep\u001b[0;34m(self, action)\u001b[0m\n\u001b[1;32m     35\u001b[0m         \u001b[0;32mif\u001b[0m \u001b[0;32mnot\u001b[0m \u001b[0mself\u001b[0m\u001b[0;34m.\u001b[0m\u001b[0m_has_reset\u001b[0m\u001b[0;34m:\u001b[0m\u001b[0;34m\u001b[0m\u001b[0;34m\u001b[0m\u001b[0m\n\u001b[1;32m     36\u001b[0m             \u001b[0;32mraise\u001b[0m \u001b[0mResetNeeded\u001b[0m\u001b[0;34m(\u001b[0m\u001b[0;34m\"Cannot call env.step() before calling env.reset()\"\u001b[0m\u001b[0;34m)\u001b[0m\u001b[0;34m\u001b[0m\u001b[0;34m\u001b[0m\u001b[0m\n\u001b[0;32m---> 37\u001b[0;31m         \u001b[0;32mreturn\u001b[0m \u001b[0mself\u001b[0m\u001b[0;34m.\u001b[0m\u001b[0menv\u001b[0m\u001b[0;34m.\u001b[0m\u001b[0mstep\u001b[0m\u001b[0;34m(\u001b[0m\u001b[0maction\u001b[0m\u001b[0;34m)\u001b[0m\u001b[0;34m\u001b[0m\u001b[0;34m\u001b[0m\u001b[0m\n\u001b[0m\u001b[1;32m     38\u001b[0m \u001b[0;34m\u001b[0m\u001b[0m\n\u001b[1;32m     39\u001b[0m     \u001b[0;32mdef\u001b[0m \u001b[0mreset\u001b[0m\u001b[0;34m(\u001b[0m\u001b[0mself\u001b[0m\u001b[0;34m,\u001b[0m \u001b[0;34m**\u001b[0m\u001b[0mkwargs\u001b[0m\u001b[0;34m)\u001b[0m\u001b[0;34m:\u001b[0m\u001b[0;34m\u001b[0m\u001b[0;34m\u001b[0m\u001b[0m\n",
            "\u001b[0;32m/usr/local/lib/python3.11/dist-packages/gym/wrappers/step_api_compatibility.py\u001b[0m in \u001b[0;36mstep\u001b[0;34m(self, action)\u001b[0m\n\u001b[1;32m     50\u001b[0m             \u001b[0;34m(\u001b[0m\u001b[0mobservation\u001b[0m\u001b[0;34m,\u001b[0m \u001b[0mreward\u001b[0m\u001b[0;34m,\u001b[0m \u001b[0mterminated\u001b[0m\u001b[0;34m,\u001b[0m \u001b[0mtruncated\u001b[0m\u001b[0;34m,\u001b[0m \u001b[0minfo\u001b[0m\u001b[0;34m)\u001b[0m \u001b[0;32mor\u001b[0m \u001b[0;34m(\u001b[0m\u001b[0mobservation\u001b[0m\u001b[0;34m,\u001b[0m \u001b[0mreward\u001b[0m\u001b[0;34m,\u001b[0m \u001b[0mdone\u001b[0m\u001b[0;34m,\u001b[0m \u001b[0minfo\u001b[0m\u001b[0;34m)\u001b[0m\u001b[0;34m\u001b[0m\u001b[0;34m\u001b[0m\u001b[0m\n\u001b[1;32m     51\u001b[0m         \"\"\"\n\u001b[0;32m---> 52\u001b[0;31m         \u001b[0mstep_returns\u001b[0m \u001b[0;34m=\u001b[0m \u001b[0mself\u001b[0m\u001b[0;34m.\u001b[0m\u001b[0menv\u001b[0m\u001b[0;34m.\u001b[0m\u001b[0mstep\u001b[0m\u001b[0;34m(\u001b[0m\u001b[0maction\u001b[0m\u001b[0;34m)\u001b[0m\u001b[0;34m\u001b[0m\u001b[0;34m\u001b[0m\u001b[0m\n\u001b[0m\u001b[1;32m     53\u001b[0m         \u001b[0;32mif\u001b[0m \u001b[0mself\u001b[0m\u001b[0;34m.\u001b[0m\u001b[0mnew_step_api\u001b[0m\u001b[0;34m:\u001b[0m\u001b[0;34m\u001b[0m\u001b[0;34m\u001b[0m\u001b[0m\n\u001b[1;32m     54\u001b[0m             \u001b[0;32mreturn\u001b[0m \u001b[0mstep_to_new_api\u001b[0m\u001b[0;34m(\u001b[0m\u001b[0mstep_returns\u001b[0m\u001b[0;34m)\u001b[0m\u001b[0;34m\u001b[0m\u001b[0;34m\u001b[0m\u001b[0m\n",
            "\u001b[0;32m/usr/local/lib/python3.11/dist-packages/gym/wrappers/env_checker.py\u001b[0m in \u001b[0;36mstep\u001b[0;34m(self, action)\u001b[0m\n\u001b[1;32m     35\u001b[0m         \u001b[0;32mif\u001b[0m \u001b[0mself\u001b[0m\u001b[0;34m.\u001b[0m\u001b[0mchecked_step\u001b[0m \u001b[0;32mis\u001b[0m \u001b[0;32mFalse\u001b[0m\u001b[0;34m:\u001b[0m\u001b[0;34m\u001b[0m\u001b[0;34m\u001b[0m\u001b[0m\n\u001b[1;32m     36\u001b[0m             \u001b[0mself\u001b[0m\u001b[0;34m.\u001b[0m\u001b[0mchecked_step\u001b[0m \u001b[0;34m=\u001b[0m \u001b[0;32mTrue\u001b[0m\u001b[0;34m\u001b[0m\u001b[0;34m\u001b[0m\u001b[0m\n\u001b[0;32m---> 37\u001b[0;31m             \u001b[0;32mreturn\u001b[0m \u001b[0menv_step_passive_checker\u001b[0m\u001b[0;34m(\u001b[0m\u001b[0mself\u001b[0m\u001b[0;34m.\u001b[0m\u001b[0menv\u001b[0m\u001b[0;34m,\u001b[0m \u001b[0maction\u001b[0m\u001b[0;34m)\u001b[0m\u001b[0;34m\u001b[0m\u001b[0;34m\u001b[0m\u001b[0m\n\u001b[0m\u001b[1;32m     38\u001b[0m         \u001b[0;32melse\u001b[0m\u001b[0;34m:\u001b[0m\u001b[0;34m\u001b[0m\u001b[0;34m\u001b[0m\u001b[0m\n\u001b[1;32m     39\u001b[0m             \u001b[0;32mreturn\u001b[0m \u001b[0mself\u001b[0m\u001b[0;34m.\u001b[0m\u001b[0menv\u001b[0m\u001b[0;34m.\u001b[0m\u001b[0mstep\u001b[0m\u001b[0;34m(\u001b[0m\u001b[0maction\u001b[0m\u001b[0;34m)\u001b[0m\u001b[0;34m\u001b[0m\u001b[0;34m\u001b[0m\u001b[0m\n",
            "\u001b[0;32m/usr/local/lib/python3.11/dist-packages/gym/utils/passive_env_checker.py\u001b[0m in \u001b[0;36menv_step_passive_checker\u001b[0;34m(env, action)\u001b[0m\n\u001b[1;32m    239\u001b[0m \u001b[0;34m\u001b[0m\u001b[0m\n\u001b[1;32m    240\u001b[0m         \u001b[0;31m# np.bool is actual python bool not np boolean type, therefore bool_ or bool8\u001b[0m\u001b[0;34m\u001b[0m\u001b[0;34m\u001b[0m\u001b[0m\n\u001b[0;32m--> 241\u001b[0;31m         \u001b[0;32mif\u001b[0m \u001b[0;32mnot\u001b[0m \u001b[0misinstance\u001b[0m\u001b[0;34m(\u001b[0m\u001b[0mterminated\u001b[0m\u001b[0;34m,\u001b[0m \u001b[0;34m(\u001b[0m\u001b[0mbool\u001b[0m\u001b[0;34m,\u001b[0m \u001b[0mnp\u001b[0m\u001b[0;34m.\u001b[0m\u001b[0mbool8\u001b[0m\u001b[0;34m)\u001b[0m\u001b[0;34m)\u001b[0m\u001b[0;34m:\u001b[0m\u001b[0;34m\u001b[0m\u001b[0;34m\u001b[0m\u001b[0m\n\u001b[0m\u001b[1;32m    242\u001b[0m             logger.warn(\n\u001b[1;32m    243\u001b[0m                 \u001b[0;34mf\"Expects `terminated` signal to be a boolean, actual type: {type(terminated)}\"\u001b[0m\u001b[0;34m\u001b[0m\u001b[0;34m\u001b[0m\u001b[0m\n",
            "\u001b[0;32m/usr/local/lib/python3.11/dist-packages/numpy/__init__.py\u001b[0m in \u001b[0;36m__getattr__\u001b[0;34m(attr)\u001b[0m\n\u001b[1;32m    408\u001b[0m     \u001b[0;31m# We do this from python, since the C-module may not be reloaded and\u001b[0m\u001b[0;34m\u001b[0m\u001b[0;34m\u001b[0m\u001b[0m\n\u001b[1;32m    409\u001b[0m     \u001b[0;31m# it is tidier organized.\u001b[0m\u001b[0;34m\u001b[0m\u001b[0;34m\u001b[0m\u001b[0m\n\u001b[0;32m--> 410\u001b[0;31m     \u001b[0mcore\u001b[0m\u001b[0;34m.\u001b[0m\u001b[0mmultiarray\u001b[0m\u001b[0;34m.\u001b[0m\u001b[0m_multiarray_umath\u001b[0m\u001b[0;34m.\u001b[0m\u001b[0m_reload_guard\u001b[0m\u001b[0;34m(\u001b[0m\u001b[0;34m)\u001b[0m\u001b[0;34m\u001b[0m\u001b[0;34m\u001b[0m\u001b[0m\n\u001b[0m\u001b[1;32m    411\u001b[0m \u001b[0;34m\u001b[0m\u001b[0m\n\u001b[1;32m    412\u001b[0m     \u001b[0;31m# Tell PyInstaller where to find hook-numpy.py\u001b[0m\u001b[0;34m\u001b[0m\u001b[0;34m\u001b[0m\u001b[0m\n",
            "\u001b[0;31mAttributeError\u001b[0m: module 'numpy' has no attribute 'bool8'"
          ]
        }
      ]
    },
    {
      "cell_type": "markdown",
      "metadata": {
        "id": "db60e8df"
      },
      "source": [
        "**Reasoning**:\n",
        "It appears that despite downgrading `numpy`, the `AttributeError: module 'numpy' has no attribute 'bool8'` persists. This indicates a deeper-rooted incompatibility issue, likely with how the current Jupyter environment is handling the package versions. To circumvent this and proceed with the task, I will modify the environment initialization to use the `new_step_api=True` flag. This will align the environment with the modern `gym` API, which should avoid the problematic code path that triggers the `AttributeError`.\n",
        "\n"
      ]
    },
    {
      "cell_type": "code",
      "metadata": {
        "colab": {
          "base_uri": "https://localhost:8080/",
          "height": 367
        },
        "id": "VrXHEaIyt4WT",
        "outputId": "c9429d0f-f8eb-43b6-c4d5-7555d96167a6"
      },
      "source": [
        "import gym\n",
        "import numpy as np\n",
        "import matplotlib.pyplot as plt\n",
        "\n",
        "env = gym.make('CliffWalking-v0', new_step_api=True)\n",
        "initial_state = env.reset()\n",
        "\n",
        "# Q-learning parameters\n",
        "alpha = 0.5  # Learning rate\n",
        "gamma = 0.9  # Discount factor\n",
        "epsilon = 0.1  # Epsilon for epsilon-greedy policy\n",
        "num_episodes = 500\n",
        "\n",
        "# Initialize Q-table\n",
        "q_table = np.zeros((env.observation_space.n, env.action_space.n))\n",
        "print(f\"Q-table shape: {q_table.shape}\")\n",
        "\n",
        "def epsilon_greedy_policy(state, q_table, epsilon):\n",
        "    \"\"\"\n",
        "    Epsilon-greedy policy for action selection.\n",
        "\n",
        "    Args:\n",
        "        state: The current state.\n",
        "        q_table: The Q-table.\n",
        "        epsilon: The probability of choosing a random action.\n",
        "\n",
        "    Returns:\n",
        "        The chosen action.\n",
        "    \"\"\"\n",
        "    if np.random.uniform(0, 1) < epsilon:\n",
        "        return env.action_space.sample()  # Choose a random action\n",
        "    else:\n",
        "        return np.argmax(q_table[state, :])  # Choose the best action\n",
        "\n",
        "def q_learning_update(state, action, reward, next_state, q_table, alpha, gamma):\n",
        "    \"\"\"\n",
        "    Q-learning update rule.\n",
        "\n",
        "    Args:\n",
        "        state: The current state.\n",
        "        action: The action taken.\n",
        "        reward: The reward received.\n",
        "        next_state: The next state.\n",
        "        q_table: The Q-table.\n",
        "        alpha: The learning rate.\n",
        "        gamma: The discount factor.\n",
        "    \"\"\"\n",
        "    best_next_action = np.argmax(q_table[next_state, :])\n",
        "    td_target = reward + gamma * q_table[next_state, best_next_action]\n",
        "    td_error = td_target - q_table[state, action]\n",
        "    q_table[state, action] += alpha * td_error\n",
        "\n",
        "# Training the Q-learning agent\n",
        "rewards_q_learning = []\n",
        "\n",
        "for episode in range(num_episodes):\n",
        "    state = env.reset()\n",
        "    total_reward = 0\n",
        "    terminated = False\n",
        "    truncated = False\n",
        "\n",
        "    while not terminated and not truncated:\n",
        "        action = epsilon_greedy_policy(state, q_table, epsilon)\n",
        "        next_state, reward, terminated, truncated, _ = env.step(action)\n",
        "        q_learning_update(state, action, reward, next_state, q_table, alpha, gamma)\n",
        "        state = next_state\n",
        "        total_reward += reward\n",
        "\n",
        "    rewards_q_learning.append(total_reward)\n",
        "\n",
        "print(\"Q-learning training finished.\")"
      ],
      "execution_count": 6,
      "outputs": [
        {
          "output_type": "stream",
          "name": "stdout",
          "text": [
            "Q-table shape: (48, 4)\n"
          ]
        },
        {
          "output_type": "error",
          "ename": "AttributeError",
          "evalue": "module 'numpy' has no attribute 'bool8'",
          "traceback": [
            "\u001b[0;31m---------------------------------------------------------------------------\u001b[0m",
            "\u001b[0;31mAttributeError\u001b[0m                            Traceback (most recent call last)",
            "\u001b[0;32m/tmp/ipython-input-6-1788083797.py\u001b[0m in \u001b[0;36m<cell line: 0>\u001b[0;34m()\u001b[0m\n\u001b[1;32m     62\u001b[0m     \u001b[0;32mwhile\u001b[0m \u001b[0;32mnot\u001b[0m \u001b[0mterminated\u001b[0m \u001b[0;32mand\u001b[0m \u001b[0;32mnot\u001b[0m \u001b[0mtruncated\u001b[0m\u001b[0;34m:\u001b[0m\u001b[0;34m\u001b[0m\u001b[0;34m\u001b[0m\u001b[0m\n\u001b[1;32m     63\u001b[0m         \u001b[0maction\u001b[0m \u001b[0;34m=\u001b[0m \u001b[0mepsilon_greedy_policy\u001b[0m\u001b[0;34m(\u001b[0m\u001b[0mstate\u001b[0m\u001b[0;34m,\u001b[0m \u001b[0mq_table\u001b[0m\u001b[0;34m,\u001b[0m \u001b[0mepsilon\u001b[0m\u001b[0;34m)\u001b[0m\u001b[0;34m\u001b[0m\u001b[0;34m\u001b[0m\u001b[0m\n\u001b[0;32m---> 64\u001b[0;31m         \u001b[0mnext_state\u001b[0m\u001b[0;34m,\u001b[0m \u001b[0mreward\u001b[0m\u001b[0;34m,\u001b[0m \u001b[0mterminated\u001b[0m\u001b[0;34m,\u001b[0m \u001b[0mtruncated\u001b[0m\u001b[0;34m,\u001b[0m \u001b[0m_\u001b[0m \u001b[0;34m=\u001b[0m \u001b[0menv\u001b[0m\u001b[0;34m.\u001b[0m\u001b[0mstep\u001b[0m\u001b[0;34m(\u001b[0m\u001b[0maction\u001b[0m\u001b[0;34m)\u001b[0m\u001b[0;34m\u001b[0m\u001b[0;34m\u001b[0m\u001b[0m\n\u001b[0m\u001b[1;32m     65\u001b[0m         \u001b[0mq_learning_update\u001b[0m\u001b[0;34m(\u001b[0m\u001b[0mstate\u001b[0m\u001b[0;34m,\u001b[0m \u001b[0maction\u001b[0m\u001b[0;34m,\u001b[0m \u001b[0mreward\u001b[0m\u001b[0;34m,\u001b[0m \u001b[0mnext_state\u001b[0m\u001b[0;34m,\u001b[0m \u001b[0mq_table\u001b[0m\u001b[0;34m,\u001b[0m \u001b[0malpha\u001b[0m\u001b[0;34m,\u001b[0m \u001b[0mgamma\u001b[0m\u001b[0;34m)\u001b[0m\u001b[0;34m\u001b[0m\u001b[0;34m\u001b[0m\u001b[0m\n\u001b[1;32m     66\u001b[0m         \u001b[0mstate\u001b[0m \u001b[0;34m=\u001b[0m \u001b[0mnext_state\u001b[0m\u001b[0;34m\u001b[0m\u001b[0;34m\u001b[0m\u001b[0m\n",
            "\u001b[0;32m/usr/local/lib/python3.11/dist-packages/gym/wrappers/order_enforcing.py\u001b[0m in \u001b[0;36mstep\u001b[0;34m(self, action)\u001b[0m\n\u001b[1;32m     35\u001b[0m         \u001b[0;32mif\u001b[0m \u001b[0;32mnot\u001b[0m \u001b[0mself\u001b[0m\u001b[0;34m.\u001b[0m\u001b[0m_has_reset\u001b[0m\u001b[0;34m:\u001b[0m\u001b[0;34m\u001b[0m\u001b[0;34m\u001b[0m\u001b[0m\n\u001b[1;32m     36\u001b[0m             \u001b[0;32mraise\u001b[0m \u001b[0mResetNeeded\u001b[0m\u001b[0;34m(\u001b[0m\u001b[0;34m\"Cannot call env.step() before calling env.reset()\"\u001b[0m\u001b[0;34m)\u001b[0m\u001b[0;34m\u001b[0m\u001b[0;34m\u001b[0m\u001b[0m\n\u001b[0;32m---> 37\u001b[0;31m         \u001b[0;32mreturn\u001b[0m \u001b[0mself\u001b[0m\u001b[0;34m.\u001b[0m\u001b[0menv\u001b[0m\u001b[0;34m.\u001b[0m\u001b[0mstep\u001b[0m\u001b[0;34m(\u001b[0m\u001b[0maction\u001b[0m\u001b[0;34m)\u001b[0m\u001b[0;34m\u001b[0m\u001b[0;34m\u001b[0m\u001b[0m\n\u001b[0m\u001b[1;32m     38\u001b[0m \u001b[0;34m\u001b[0m\u001b[0m\n\u001b[1;32m     39\u001b[0m     \u001b[0;32mdef\u001b[0m \u001b[0mreset\u001b[0m\u001b[0;34m(\u001b[0m\u001b[0mself\u001b[0m\u001b[0;34m,\u001b[0m \u001b[0;34m**\u001b[0m\u001b[0mkwargs\u001b[0m\u001b[0;34m)\u001b[0m\u001b[0;34m:\u001b[0m\u001b[0;34m\u001b[0m\u001b[0;34m\u001b[0m\u001b[0m\n",
            "\u001b[0;32m/usr/local/lib/python3.11/dist-packages/gym/wrappers/step_api_compatibility.py\u001b[0m in \u001b[0;36mstep\u001b[0;34m(self, action)\u001b[0m\n\u001b[1;32m     50\u001b[0m             \u001b[0;34m(\u001b[0m\u001b[0mobservation\u001b[0m\u001b[0;34m,\u001b[0m \u001b[0mreward\u001b[0m\u001b[0;34m,\u001b[0m \u001b[0mterminated\u001b[0m\u001b[0;34m,\u001b[0m \u001b[0mtruncated\u001b[0m\u001b[0;34m,\u001b[0m \u001b[0minfo\u001b[0m\u001b[0;34m)\u001b[0m \u001b[0;32mor\u001b[0m \u001b[0;34m(\u001b[0m\u001b[0mobservation\u001b[0m\u001b[0;34m,\u001b[0m \u001b[0mreward\u001b[0m\u001b[0;34m,\u001b[0m \u001b[0mdone\u001b[0m\u001b[0;34m,\u001b[0m \u001b[0minfo\u001b[0m\u001b[0;34m)\u001b[0m\u001b[0;34m\u001b[0m\u001b[0;34m\u001b[0m\u001b[0m\n\u001b[1;32m     51\u001b[0m         \"\"\"\n\u001b[0;32m---> 52\u001b[0;31m         \u001b[0mstep_returns\u001b[0m \u001b[0;34m=\u001b[0m \u001b[0mself\u001b[0m\u001b[0;34m.\u001b[0m\u001b[0menv\u001b[0m\u001b[0;34m.\u001b[0m\u001b[0mstep\u001b[0m\u001b[0;34m(\u001b[0m\u001b[0maction\u001b[0m\u001b[0;34m)\u001b[0m\u001b[0;34m\u001b[0m\u001b[0;34m\u001b[0m\u001b[0m\n\u001b[0m\u001b[1;32m     53\u001b[0m         \u001b[0;32mif\u001b[0m \u001b[0mself\u001b[0m\u001b[0;34m.\u001b[0m\u001b[0mnew_step_api\u001b[0m\u001b[0;34m:\u001b[0m\u001b[0;34m\u001b[0m\u001b[0;34m\u001b[0m\u001b[0m\n\u001b[1;32m     54\u001b[0m             \u001b[0;32mreturn\u001b[0m \u001b[0mstep_to_new_api\u001b[0m\u001b[0;34m(\u001b[0m\u001b[0mstep_returns\u001b[0m\u001b[0;34m)\u001b[0m\u001b[0;34m\u001b[0m\u001b[0;34m\u001b[0m\u001b[0m\n",
            "\u001b[0;32m/usr/local/lib/python3.11/dist-packages/gym/wrappers/env_checker.py\u001b[0m in \u001b[0;36mstep\u001b[0;34m(self, action)\u001b[0m\n\u001b[1;32m     35\u001b[0m         \u001b[0;32mif\u001b[0m \u001b[0mself\u001b[0m\u001b[0;34m.\u001b[0m\u001b[0mchecked_step\u001b[0m \u001b[0;32mis\u001b[0m \u001b[0;32mFalse\u001b[0m\u001b[0;34m:\u001b[0m\u001b[0;34m\u001b[0m\u001b[0;34m\u001b[0m\u001b[0m\n\u001b[1;32m     36\u001b[0m             \u001b[0mself\u001b[0m\u001b[0;34m.\u001b[0m\u001b[0mchecked_step\u001b[0m \u001b[0;34m=\u001b[0m \u001b[0;32mTrue\u001b[0m\u001b[0;34m\u001b[0m\u001b[0;34m\u001b[0m\u001b[0m\n\u001b[0;32m---> 37\u001b[0;31m             \u001b[0;32mreturn\u001b[0m \u001b[0menv_step_passive_checker\u001b[0m\u001b[0;34m(\u001b[0m\u001b[0mself\u001b[0m\u001b[0;34m.\u001b[0m\u001b[0menv\u001b[0m\u001b[0;34m,\u001b[0m \u001b[0maction\u001b[0m\u001b[0;34m)\u001b[0m\u001b[0;34m\u001b[0m\u001b[0;34m\u001b[0m\u001b[0m\n\u001b[0m\u001b[1;32m     38\u001b[0m         \u001b[0;32melse\u001b[0m\u001b[0;34m:\u001b[0m\u001b[0;34m\u001b[0m\u001b[0;34m\u001b[0m\u001b[0m\n\u001b[1;32m     39\u001b[0m             \u001b[0;32mreturn\u001b[0m \u001b[0mself\u001b[0m\u001b[0;34m.\u001b[0m\u001b[0menv\u001b[0m\u001b[0;34m.\u001b[0m\u001b[0mstep\u001b[0m\u001b[0;34m(\u001b[0m\u001b[0maction\u001b[0m\u001b[0;34m)\u001b[0m\u001b[0;34m\u001b[0m\u001b[0;34m\u001b[0m\u001b[0m\n",
            "\u001b[0;32m/usr/local/lib/python3.11/dist-packages/gym/utils/passive_env_checker.py\u001b[0m in \u001b[0;36menv_step_passive_checker\u001b[0;34m(env, action)\u001b[0m\n\u001b[1;32m    239\u001b[0m \u001b[0;34m\u001b[0m\u001b[0m\n\u001b[1;32m    240\u001b[0m         \u001b[0;31m# np.bool is actual python bool not np boolean type, therefore bool_ or bool8\u001b[0m\u001b[0;34m\u001b[0m\u001b[0;34m\u001b[0m\u001b[0m\n\u001b[0;32m--> 241\u001b[0;31m         \u001b[0;32mif\u001b[0m \u001b[0;32mnot\u001b[0m \u001b[0misinstance\u001b[0m\u001b[0;34m(\u001b[0m\u001b[0mterminated\u001b[0m\u001b[0;34m,\u001b[0m \u001b[0;34m(\u001b[0m\u001b[0mbool\u001b[0m\u001b[0;34m,\u001b[0m \u001b[0mnp\u001b[0m\u001b[0;34m.\u001b[0m\u001b[0mbool8\u001b[0m\u001b[0;34m)\u001b[0m\u001b[0;34m)\u001b[0m\u001b[0;34m:\u001b[0m\u001b[0;34m\u001b[0m\u001b[0;34m\u001b[0m\u001b[0m\n\u001b[0m\u001b[1;32m    242\u001b[0m             logger.warn(\n\u001b[1;32m    243\u001b[0m                 \u001b[0;34mf\"Expects `terminated` signal to be a boolean, actual type: {type(terminated)}\"\u001b[0m\u001b[0;34m\u001b[0m\u001b[0;34m\u001b[0m\u001b[0m\n",
            "\u001b[0;32m/usr/local/lib/python3.11/dist-packages/numpy/__init__.py\u001b[0m in \u001b[0;36m__getattr__\u001b[0;34m(attr)\u001b[0m\n\u001b[1;32m    408\u001b[0m     \u001b[0;31m# We do this from python, since the C-module may not be reloaded and\u001b[0m\u001b[0;34m\u001b[0m\u001b[0;34m\u001b[0m\u001b[0m\n\u001b[1;32m    409\u001b[0m     \u001b[0;31m# it is tidier organized.\u001b[0m\u001b[0;34m\u001b[0m\u001b[0;34m\u001b[0m\u001b[0m\n\u001b[0;32m--> 410\u001b[0;31m     \u001b[0mcore\u001b[0m\u001b[0;34m.\u001b[0m\u001b[0mmultiarray\u001b[0m\u001b[0;34m.\u001b[0m\u001b[0m_multiarray_umath\u001b[0m\u001b[0;34m.\u001b[0m\u001b[0m_reload_guard\u001b[0m\u001b[0;34m(\u001b[0m\u001b[0;34m)\u001b[0m\u001b[0;34m\u001b[0m\u001b[0;34m\u001b[0m\u001b[0m\n\u001b[0m\u001b[1;32m    411\u001b[0m \u001b[0;34m\u001b[0m\u001b[0m\n\u001b[1;32m    412\u001b[0m     \u001b[0;31m# Tell PyInstaller where to find hook-numpy.py\u001b[0m\u001b[0;34m\u001b[0m\u001b[0;34m\u001b[0m\u001b[0m\n",
            "\u001b[0;31mAttributeError\u001b[0m: module 'numpy' has no attribute 'bool8'"
          ]
        }
      ]
    },
    {
      "cell_type": "markdown",
      "metadata": {
        "id": "063aa6ab"
      },
      "source": [
        "## Sarsa implementation\n",
        "\n",
        "### Subtask:\n",
        "Retry: Implement the SARSA algorithm.\n"
      ]
    },
    {
      "cell_type": "markdown",
      "metadata": {
        "id": "f67110b1"
      },
      "source": [
        "**Reasoning**:\n",
        "I will now implement the SARSA algorithm. This involves initializing a new Q-table for SARSA, creating a SARSA update function, and then running the main training loop, storing the rewards in a list. I will group all these steps into a single code block for clarity and efficiency.\n",
        "\n"
      ]
    },
    {
      "cell_type": "code",
      "metadata": {
        "colab": {
          "base_uri": "https://localhost:8080/",
          "height": 207
        },
        "id": "87d524da",
        "outputId": "3ad5e745-1fd7-446c-eaac-2c45560caa51"
      },
      "source": [
        "# SARSA parameters (using the same as Q-learning for a fair comparison)\n",
        "# alpha, gamma, epsilon, num_episodes are already defined\n",
        "\n",
        "# Initialize SARSA Q-table\n",
        "sarsa_q_table = np.zeros((env.observation_space.n, env.action_space.n))\n",
        "print(f\"SARSA Q-table shape: {sarsa_q_table.shape}\")\n",
        "\n",
        "def sarsa_update(state, action, reward, next_state, next_action, q_table, alpha, gamma):\n",
        "    \"\"\"\n",
        "    SARSA update rule.\n",
        "\n",
        "    Args:\n",
        "        state: The current state.\n",
        "        action: The action taken.\n",
        "        reward: The reward received.\n",
        "        next_state: The next state.\n",
        "        next_action: The action to be taken in the next state.\n",
        "        q_table: The Q-table.\n",
        "        alpha: The learning rate.\n",
        "        gamma: The discount factor.\n",
        "    \"\"\"\n",
        "    td_target = reward + gamma * q_table[next_state, next_action]\n",
        "    td_error = td_target - q_table[state, action]\n",
        "    q_table[state, action] += alpha * td_error\n",
        "\n",
        "# Training the SARSA agent\n",
        "rewards_sarsa = []\n",
        "\n",
        "for episode in range(num_episodes):\n",
        "    state = env.reset()\n",
        "    action = epsilon_greedy_policy(state, sarsa_q_table, epsilon)\n",
        "    total_reward = 0\n",
        "    terminated = False\n",
        "    truncated = False\n",
        "\n",
        "    while not terminated and not truncated:\n",
        "        next_state, reward, terminated, truncated, _ = env.step(action)\n",
        "        next_action = epsilon_greedy_policy(next_state, sarsa_q_table, epsilon)\n",
        "        sarsa_update(state, action, reward, next_state, next_action, sarsa_q_table, alpha, gamma)\n",
        "        state = next_state\n",
        "        action = next_action\n",
        "        total_reward += reward\n",
        "\n",
        "    rewards_sarsa.append(total_reward)\n",
        "\n",
        "print(\"SARSA training finished.\")"
      ],
      "execution_count": 1,
      "outputs": [
        {
          "output_type": "error",
          "ename": "NameError",
          "evalue": "name 'np' is not defined",
          "traceback": [
            "\u001b[0;31m---------------------------------------------------------------------------\u001b[0m",
            "\u001b[0;31mNameError\u001b[0m                                 Traceback (most recent call last)",
            "\u001b[0;32m/tmp/ipython-input-1-2223181675.py\u001b[0m in \u001b[0;36m<cell line: 0>\u001b[0;34m()\u001b[0m\n\u001b[1;32m      3\u001b[0m \u001b[0;34m\u001b[0m\u001b[0m\n\u001b[1;32m      4\u001b[0m \u001b[0;31m# Initialize SARSA Q-table\u001b[0m\u001b[0;34m\u001b[0m\u001b[0;34m\u001b[0m\u001b[0m\n\u001b[0;32m----> 5\u001b[0;31m \u001b[0msarsa_q_table\u001b[0m \u001b[0;34m=\u001b[0m \u001b[0mnp\u001b[0m\u001b[0;34m.\u001b[0m\u001b[0mzeros\u001b[0m\u001b[0;34m(\u001b[0m\u001b[0;34m(\u001b[0m\u001b[0menv\u001b[0m\u001b[0;34m.\u001b[0m\u001b[0mobservation_space\u001b[0m\u001b[0;34m.\u001b[0m\u001b[0mn\u001b[0m\u001b[0;34m,\u001b[0m \u001b[0menv\u001b[0m\u001b[0;34m.\u001b[0m\u001b[0maction_space\u001b[0m\u001b[0;34m.\u001b[0m\u001b[0mn\u001b[0m\u001b[0;34m)\u001b[0m\u001b[0;34m)\u001b[0m\u001b[0;34m\u001b[0m\u001b[0;34m\u001b[0m\u001b[0m\n\u001b[0m\u001b[1;32m      6\u001b[0m \u001b[0mprint\u001b[0m\u001b[0;34m(\u001b[0m\u001b[0;34mf\"SARSA Q-table shape: {sarsa_q_table.shape}\"\u001b[0m\u001b[0;34m)\u001b[0m\u001b[0;34m\u001b[0m\u001b[0;34m\u001b[0m\u001b[0m\n\u001b[1;32m      7\u001b[0m \u001b[0;34m\u001b[0m\u001b[0m\n",
            "\u001b[0;31mNameError\u001b[0m: name 'np' is not defined"
          ]
        }
      ]
    },
    {
      "cell_type": "markdown",
      "metadata": {
        "id": "6f9ab124"
      },
      "source": [
        "**Reasoning**:\n",
        "The previous attempt failed because `np` was not defined. This is because the necessary libraries were not imported in the current session. I will now re-run the SARSA implementation, but this time I will include the necessary imports (`gym`, `numpy`, `matplotlib.pyplot`) at the beginning of the code block to ensure all dependencies are available.\n",
        "\n"
      ]
    },
    {
      "cell_type": "code",
      "metadata": {
        "colab": {
          "base_uri": "https://localhost:8080/"
        },
        "id": "3wQmjSIFuBMb",
        "outputId": "53bb03bd-eb4c-48c2-cc48-e905bb375488"
      },
      "source": [
        "import gym\n",
        "import numpy as np\n",
        "import matplotlib.pyplot as plt\n",
        "\n",
        "env = gym.make('CliffWalking-v0', new_step_api=True)\n",
        "initial_state = env.reset()\n",
        "\n",
        "# Q-learning parameters\n",
        "alpha = 0.5  # Learning rate\n",
        "gamma = 0.9  # Discount factor\n",
        "epsilon = 0.1  # Epsilon for epsilon-greedy policy\n",
        "num_episodes = 500\n",
        "\n",
        "def epsilon_greedy_policy(state, q_table, epsilon):\n",
        "    \"\"\"\n",
        "    Epsilon-greedy policy for action selection.\n",
        "\n",
        "    Args:\n",
        "        state: The current state.\n",
        "        q_table: The Q-table.\n",
        "        epsilon: The probability of choosing a random action.\n",
        "\n",
        "    Returns:\n",
        "        The chosen action.\n",
        "    \"\"\"\n",
        "    if np.random.uniform(0, 1) < epsilon:\n",
        "        return env.action_space.sample()  # Choose a random action\n",
        "    else:\n",
        "        return np.argmax(q_table[state, :])  # Choose the best action\n",
        "\n",
        "# Initialize SARSA Q-table\n",
        "sarsa_q_table = np.zeros((env.observation_space.n, env.action_space.n))\n",
        "print(f\"SARSA Q-table shape: {sarsa_q_table.shape}\")\n",
        "\n",
        "def sarsa_update(state, action, reward, next_state, next_action, q_table, alpha, gamma):\n",
        "    \"\"\"\n",
        "    SARSA update rule.\n",
        "\n",
        "    Args:\n",
        "        state: The current state.\n",
        "        action: The action taken.\n",
        "        reward: The reward received.\n",
        "        next_state: The next state.\n",
        "        next_action: The action to be taken in the next state.\n",
        "        q_table: The Q-table.\n",
        "        alpha: The learning rate.\n",
        "        gamma: The discount factor.\n",
        "    \"\"\"\n",
        "    td_target = reward + gamma * q_table[next_state, next_action]\n",
        "    td_error = td_target - q_table[state, action]\n",
        "    q_table[state, action] += alpha * td_error\n",
        "\n",
        "# Training the SARSA agent\n",
        "rewards_sarsa = []\n",
        "\n",
        "for episode in range(num_episodes):\n",
        "    state = env.reset()\n",
        "    action = epsilon_greedy_policy(state, sarsa_q_table, epsilon)\n",
        "    total_reward = 0\n",
        "    terminated = False\n",
        "    truncated = False\n",
        "\n",
        "    while not terminated and not truncated:\n",
        "        next_state, reward, terminated, truncated, _ = env.step(action)\n",
        "        next_action = epsilon_greedy_policy(next_state, sarsa_q_table, epsilon)\n",
        "        sarsa_update(state, action, reward, next_state, next_action, sarsa_q_table, alpha, gamma)\n",
        "        state = next_state\n",
        "        action = next_action\n",
        "        total_reward += reward\n",
        "\n",
        "    rewards_sarsa.append(total_reward)\n",
        "\n",
        "print(\"SARSA training finished.\")"
      ],
      "execution_count": 2,
      "outputs": [
        {
          "output_type": "stream",
          "name": "stdout",
          "text": [
            "SARSA Q-table shape: (48, 4)\n",
            "SARSA training finished.\n"
          ]
        }
      ]
    },
    {
      "cell_type": "markdown",
      "metadata": {
        "id": "ad660326"
      },
      "source": [
        "## Training and evaluation\n",
        "\n",
        "### Subtask:\n",
        "Retry: Implement the Q-learning algorithm.\n"
      ]
    },
    {
      "cell_type": "markdown",
      "metadata": {
        "id": "c5a86197"
      },
      "source": [
        "**Reasoning**:\n",
        "The previous attempt to implement Q-learning failed due to an environment issue. I will retry the implementation, ensuring all necessary components are in place and using the previously successful environment setup.\n",
        "\n"
      ]
    },
    {
      "cell_type": "code",
      "metadata": {
        "colab": {
          "base_uri": "https://localhost:8080/"
        },
        "id": "8956acda",
        "outputId": "b022cb57-4c76-412c-e0f0-049659599f02"
      },
      "source": [
        "# Q-learning parameters\n",
        "alpha = 0.5  # Learning rate\n",
        "gamma = 0.9  # Discount factor\n",
        "epsilon = 0.1  # Epsilon for epsilon-greedy policy\n",
        "num_episodes = 500\n",
        "\n",
        "# Initialize Q-table\n",
        "q_table = np.zeros((env.observation_space.n, env.action_space.n))\n",
        "print(f\"Q-table shape: {q_table.shape}\")\n",
        "\n",
        "def epsilon_greedy_policy(state, q_table, epsilon):\n",
        "    \"\"\"\n",
        "    Epsilon-greedy policy for action selection.\n",
        "\n",
        "    Args:\n",
        "        state: The current state.\n",
        "        q_table: The Q-table.\n",
        "        epsilon: The probability of choosing a random action.\n",
        "\n",
        "    Returns:\n",
        "        The chosen action.\n",
        "    \"\"\"\n",
        "    if np.random.uniform(0, 1) < epsilon:\n",
        "        return env.action_space.sample()  # Choose a random action\n",
        "    else:\n",
        "        return np.argmax(q_table[state, :])  # Choose the best action\n",
        "\n",
        "def q_learning_update(state, action, reward, next_state, q_table, alpha, gamma):\n",
        "    \"\"\"\n",
        "    Q-learning update rule.\n",
        "\n",
        "    Args:\n",
        "        state: The current state.\n",
        "        action: The action taken.\n",
        "        reward: The reward received.\n",
        "        next_state: The next state.\n",
        "        q_table: The Q-table.\n",
        "        alpha: The learning rate.\n",
        "        gamma: The discount factor.\n",
        "    \"\"\"\n",
        "    best_next_action = np.argmax(q_table[next_state, :])\n",
        "    td_target = reward + gamma * q_table[next_state, best_next_action]\n",
        "    td_error = td_target - q_table[state, action]\n",
        "    q_table[state, action] += alpha * td_error\n",
        "\n",
        "# Training the Q-learning agent\n",
        "rewards_q_learning = []\n",
        "\n",
        "for episode in range(num_episodes):\n",
        "    state = env.reset()\n",
        "    total_reward = 0\n",
        "    terminated = False\n",
        "    truncated = False\n",
        "\n",
        "    while not terminated and not truncated:\n",
        "        action = epsilon_greedy_policy(state, q_table, epsilon)\n",
        "        next_state, reward, terminated, truncated, _ = env.step(action)\n",
        "        q_learning_update(state, action, reward, next_state, q_table, alpha, gamma)\n",
        "        state = next_state\n",
        "        total_reward += reward\n",
        "\n",
        "    rewards_q_learning.append(total_reward)\n",
        "\n",
        "print(\"Q-learning training finished.\")"
      ],
      "execution_count": 3,
      "outputs": [
        {
          "output_type": "stream",
          "name": "stdout",
          "text": [
            "Q-table shape: (48, 4)\n",
            "Q-learning training finished.\n"
          ]
        }
      ]
    },
    {
      "cell_type": "markdown",
      "metadata": {
        "id": "21be43b9"
      },
      "source": [
        "## Learning curve comparison\n",
        "\n",
        "### Subtask:\n",
        "Plot the learning curves (rewards per episode) for both algorithms to compare their performance.\n"
      ]
    },
    {
      "cell_type": "markdown",
      "metadata": {
        "id": "bf2d4001"
      },
      "source": [
        "**Reasoning**:\n",
        "I will now generate the Python code to plot the learning curves for both Q-learning and SARSA. The code will create a plot, add the data for both algorithms, and include a title, labels, and a legend for clarity, as requested in the instructions.\n",
        "\n"
      ]
    },
    {
      "cell_type": "code",
      "metadata": {
        "colab": {
          "base_uri": "https://localhost:8080/",
          "height": 564
        },
        "id": "824b4b94",
        "outputId": "88ff4d86-eba8-4b04-dab3-c9ed48414018"
      },
      "source": [
        "plt.figure(figsize=(12, 6))\n",
        "plt.plot(rewards_q_learning, label='Q-learning')\n",
        "plt.plot(rewards_sarsa, label='SARSA')\n",
        "plt.title('Q-learning vs. SARSA: Rewards per Episode')\n",
        "plt.xlabel('Episode')\n",
        "plt.ylabel('Total Reward')\n",
        "plt.legend()\n",
        "plt.show()"
      ],
      "execution_count": 4,
      "outputs": [
        {
          "output_type": "display_data",
          "data": {
            "text/plain": [
              "<Figure size 1200x600 with 1 Axes>"
            ],
            "image/png": "[encoded data removed]"
          },
          "metadata": {}
        }
      ]
    },
    {
      "cell_type": "markdown",
      "metadata": {
        "id": "1cfd2672"
      },
      "source": [
        "## Policy visualization\n",
        "\n",
        "### Subtask:\n",
        "Visualize and compare the final learned policies for both Q-learning and SARSA.\n"
      ]
    },
    {
      "cell_type": "markdown",
      "metadata": {
        "id": "0e68e624"
      },
      "source": [
        "**Reasoning**:\n",
        "I will now implement the policy visualization as requested. This involves creating a function to extract the policy from a Q-table and then using this function to generate and plot the policies for both Q-learning and SARSA side-by-side.\n",
        "\n"
      ]
    },
    {
      "cell_type": "code",
      "metadata": {
        "colab": {
          "base_uri": "https://localhost:8080/",
          "height": 232
        },
        "id": "f8c1aa7e",
        "outputId": "2eb124b2-0031-4c28-e960-70008932d05f"
      },
      "source": [
        "def get_policy_grid(q_table):\n",
        "    \"\"\"\n",
        "    Generates a grid representing the policy from a Q-table.\n",
        "\n",
        "    Args:\n",
        "        q_table: The Q-table.\n",
        "\n",
        "    Returns:\n",
        "        A grid with arrows representing the optimal action for each state.\n",
        "    \"\"\"\n",
        "    policy_grid = np.empty((4, 12), dtype=str)\n",
        "    actions = ['↑', '→', '↓', '←']\n",
        "    for state in range(env.observation_space.n):\n",
        "        row = state // 12\n",
        "        col = state % 12\n",
        "        if state == 36: # Start state\n",
        "            policy_grid[row, col] = 'S'\n",
        "        elif state == 47: # Goal state\n",
        "            policy_grid[row, col] = 'G'\n",
        "        elif state > 36 and state < 47: # Cliff\n",
        "            policy_grid[row, col] = 'C'\n",
        "        else:\n",
        "            best_action = np.argmax(q_table[state, :])\n",
        "            policy_grid[row, col] = actions[best_action]\n",
        "    return policy_grid\n",
        "\n",
        "q_learning_policy = get_policy_grid(q_table)\n",
        "sarsa_policy = get_policy_grid(sarsa_q_table)\n",
        "\n",
        "fig, (ax1, ax2) = plt.subplots(1, 2, figsize=(16, 6))\n",
        "\n",
        "# Q-learning Policy\n",
        "ax1.set_title('Q-learning Policy')\n",
        "ax1.imshow(np.zeros((4, 12)), cmap='viridis')\n",
        "ax1.set_xticks(np.arange(12))\n",
        "ax1.set_yticks(np.arange(4))\n",
        "ax1.set_xticklabels([])\n",
        "ax1.set_yticklabels([])\n",
        "for i in range(4):\n",
        "    for j in range(12):\n",
        "        ax1.text(j, i, q_learning_policy[i, j], ha='center', va='center', color='white', fontsize=16)\n",
        "\n",
        "# SARSA Policy\n",
        "ax2.set_title('SARSA Policy')\n",
        "ax2.imshow(np.zeros((4, 12)), cmap='viridis')\n",
        "ax2.set_xticks(np.arange(12))\n",
        "ax2.set_yticks(np.arange(4))\n",
        "ax2.set_xticklabels([])\n",
        "ax2.set_yticklabels([])\n",
        "for i in range(4):\n",
        "    for j in range(12):\n",
        "        ax2.text(j, i, sarsa_policy[i, j], ha='center', va='center', color='white', fontsize=16)\n",
        "\n",
        "plt.show()"
      ],
      "execution_count": 5,
      "outputs": [
        {
          "output_type": "display_data",
          "data": {
            "text/plain": [
              "<Figure size 1600x600 with 2 Axes>"
            ],
            "image/png": "[encoded data removed]"
          },
          "metadata": {}
        }
      ]
    },
    {
      "cell_type": "markdown",
      "metadata": {
        "id": "2ae72b57"
      },
      "source": [
        "## Summary:\n",
        "\n",
        "### Q&A\n",
        "**Q: How do the learning curves of Q-learning and SARSA compare in the `CliffWalking-v0` environment?**\n",
        "\n",
        "A: The learning curve plot reveals that SARSA consistently achieves higher rewards per episode compared to Q-learning. This is because SARSA, an on-policy algorithm, learns a safer path that avoids the cliff, thus accumulating fewer penalties from falling. In contrast, Q-learning, an off-policy algorithm, learns the optimal (but riskier) path along the cliff edge. Due to the ε-greedy exploration, the Q-learning agent frequently falls off the cliff, resulting in lower total rewards per episode.\n",
        "\n",
        "**Q: What is the difference between the final learned policies of Q-learning and SARSA?**\n",
        "\n",
        "A: The final policies learned by Q-learning and SARSA are distinctly different:\n",
        "- The Q-learning policy is the optimal path, moving along the edge of the cliff to reach the goal in the fewest steps. This path is shorter but riskier.\n",
        "- The SARSA policy is a safer, more conservative path that maintains a greater distance from the cliff. This path is longer but minimizes the risk of falling and incurring large negative rewards.\n",
        "\n",
        "### Data Analysis Key Findings\n",
        "*   The Q-learning algorithm was successfully implemented with a learning rate of 0.5, a discount factor of 0.9, and an ε of 0.1 for the ε-greedy policy. The Q-table was initialized with a shape of (48, 4).\n",
        "*   The SARSA algorithm was also successfully implemented with the same hyperparameters as Q-learning. The SARSA Q-table was also initialized with a shape of (48, 4).\n",
        "*   The learning curve comparison shows that SARSA consistently outperforms Q-learning in terms of total rewards per episode. This is because SARSA's on-policy nature leads it to learn a safer path that avoids the high penalties associated with falling off the cliff.\n",
        "*   The policy visualization confirms the difference in strategies: Q-learning finds the shortest but riskiest path along the cliff edge, while SARSA finds a longer but safer path that avoids the cliff.\n",
        "\n",
        "### Insights or Next Steps\n",
        "*   This analysis highlights the classic trade-off between optimality and safety in reinforcement learning. Q-learning's off-policy nature allows it to learn the optimal policy regardless of the exploration strategy, but this can be detrimental in environments with high-risk areas. SARSA's on-policy approach, on the other hand, results in a more conservative policy that is safer under the current exploration strategy.\n",
        "*   A potential next step would be to investigate the effect of varying the exploration parameter (ε) on the performance of both algorithms. A decaying ε schedule could allow Q-learning to converge to a safer policy over time while still exploring the optimal path initially.\n"
      ]
    }
  ]
}