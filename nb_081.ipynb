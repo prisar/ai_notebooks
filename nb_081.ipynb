{
  "nbformat": 4,
  "nbformat_minor": 0,
  "metadata": {
    "colab": {
      "provenance": [],
      "authorship_tag": "ABX9TyMTokt6s+70+JS09Rw1AsqX",
      "include_colab_link": true
    },
    "kernelspec": {
      "name": "python3",
      "display_name": "Python 3"
    },
    "language_info": {
      "name": "python"
    }
  },
  "cells": [
    {
      "cell_type": "markdown",
      "metadata": {
        "id": "view-in-github",
        "colab_type": "text"
      },
      "source": [
        "<a href=\"https://colab.research.google.com/github/prisar/ai_notebooks/blob/main/nb_081.ipynb\" target=\"_parent\"><img src=\"https://colab.research.google.com/assets/colab-badge.svg\" alt=\"Open In Colab\"/></a>"
      ]
    },
    {
      "cell_type": "code",
      "execution_count": null,
      "metadata": {
        "id": "4gC75PGh4M1V"
      },
      "outputs": [],
      "source": []
    },
    {
      "cell_type": "markdown",
      "metadata": {
        "id": "ff8f71ed"
      },
      "source": [
        "# Task\n",
        "You are given parts of a video and its summary. Write the LLM call logic to combine these and ask the LLM Gemini to find the relevant chunks. Then, list the relevant chunks in a JSON format with a relevance score. Finally, take the top chunks and feed them to Gemini for answer generation."
      ]
    },
    {
      "cell_type": "markdown",
      "metadata": {
        "id": "95c7dd74"
      },
      "source": [
        "## Represent video chunks\n",
        "\n",
        "### Subtask:\n",
        "I will define a data structure to represent the video chunks and their summaries. This will likely be a list of dictionaries, where each dictionary contains the chunk ID, the summary, and the video segment.\n"
      ]
    },
    {
      "cell_type": "markdown",
      "metadata": {
        "id": "42e7e44a"
      },
      "source": [
        "**Reasoning**:\n",
        "The subtask is to create a Python list of dictionaries representing video chunks. This involves defining the structure and populating it with sample data.\n",
        "\n"
      ]
    },
    {
      "cell_type": "code",
      "metadata": {
        "colab": {
          "base_uri": "https://localhost:8080/"
        },
        "id": "60f6c197",
        "outputId": "d15937bf-591a-4727-a386-5aef9dbea88b"
      },
      "source": [
        "video_chunks = [\n",
        "    {\n",
        "        'chunk_id': 'chunk_1',\n",
        "        'summary': 'Introduction to data analysis and its importance.',\n",
        "        'video_segment': 'Welcome to this course on data analysis. Data analysis is crucial for making informed decisions.'\n",
        "    },\n",
        "    {\n",
        "        'chunk_id': 'chunk_2',\n",
        "        'summary': 'Steps involved in data cleaning and preprocessing.',\n",
        "        'video_segment': 'The first step in data analysis is data cleaning. This involves handling missing values and outliers.'\n",
        "    },\n",
        "    {\n",
        "        'chunk_id': 'chunk_3',\n",
        "        'summary': 'Exploring data visualization techniques.',\n",
        "        'video_segment': 'Data visualization helps in understanding patterns in the data. We will look at various plotting techniques.'\n",
        "    },\n",
        "    {\n",
        "        'chunk_id': 'chunk_4',\n",
        "        'summary': 'Introduction to machine learning concepts.',\n",
        "        'video_segment': 'After exploring the data, we can move to machine learning. This involves building predictive models.'\n",
        "    }\n",
        "]\n",
        "\n",
        "print(video_chunks)"
      ],
      "execution_count": 1,
      "outputs": [
        {
          "output_type": "stream",
          "name": "stdout",
          "text": [
            "[{'chunk_id': 'chunk_1', 'summary': 'Introduction to data analysis and its importance.', 'video_segment': 'Welcome to this course on data analysis. Data analysis is crucial for making informed decisions.'}, {'chunk_id': 'chunk_2', 'summary': 'Steps involved in data cleaning and preprocessing.', 'video_segment': 'The first step in data analysis is data cleaning. This involves handling missing values and outliers.'}, {'chunk_id': 'chunk_3', 'summary': 'Exploring data visualization techniques.', 'video_segment': 'Data visualization helps in understanding patterns in the data. We will look at various plotting techniques.'}, {'chunk_id': 'chunk_4', 'summary': 'Introduction to machine learning concepts.', 'video_segment': 'After exploring the data, we can move to machine learning. This involves building predictive models.'}]\n"
          ]
        }
      ]
    },
    {
      "cell_type": "markdown",
      "metadata": {
        "id": "ed0ba0b0"
      },
      "source": [
        "## Formulate the prompt\n",
        "\n",
        "### Subtask:\n",
        "I will create a prompt for the first Gemini call. This prompt will instruct Gemini to act as a relevance-scoring engine. It will take the user's question and the video chunk summaries as input and output a JSON object with relevance scores for each chunk.\n"
      ]
    },
    {
      "cell_type": "markdown",
      "metadata": {
        "id": "42e8b829"
      },
      "source": [
        "**Reasoning**:\n",
        "Define a string variable to hold the prompt for the first Gemini call, instructing it to act as a relevance scoring engine and output a JSON object with relevance scores for video chunk summaries based on a user question.\n",
        "\n"
      ]
    },
    {
      "cell_type": "code",
      "metadata": {
        "colab": {
          "base_uri": "https://localhost:8080/"
        },
        "id": "97ea219e",
        "outputId": "a9f00814-2e47-4166-bd54-6e15ae7ec9ad"
      },
      "source": [
        "relevance_prompt = \"\"\"\n",
        "You are a relevance scoring engine. Your task is to assess the relevance of provided video chunk summaries to a user's question.\n",
        "\n",
        "You will be given a user question and a list of video chunk summaries. For each chunk summary, you need to provide a relevance score.\n",
        "\n",
        "Output your response as a JSON object. The keys of the JSON object should be the 'chunk_id' of each video chunk, and the values should be an integer relevance score between 0 and 10, where 10 is highly relevant and 0 is not relevant at all.\n",
        "\n",
        "Here is the user question:\n",
        "{user_question}\n",
        "\n",
        "Here are the video chunk summaries:\n",
        "{video_chunk_summaries}\n",
        "\"\"\"\n",
        "print(relevance_prompt)"
      ],
      "execution_count": 2,
      "outputs": [
        {
          "output_type": "stream",
          "name": "stdout",
          "text": [
            "\n",
            "You are a relevance scoring engine. Your task is to assess the relevance of provided video chunk summaries to a user's question.\n",
            "\n",
            "You will be given a user question and a list of video chunk summaries. For each chunk summary, you need to provide a relevance score.\n",
            "\n",
            "Output your response as a JSON object. The keys of the JSON object should be the 'chunk_id' of each video chunk, and the values should be an integer relevance score between 0 and 10, where 10 is highly relevant and 0 is not relevant at all.\n",
            "\n",
            "Here is the user question:\n",
            "{user_question}\n",
            "\n",
            "Here are the video chunk summaries:\n",
            "{video_chunk_summaries}\n",
            "\n"
          ]
        }
      ]
    },
    {
      "cell_type": "markdown",
      "metadata": {
        "id": "d977c45d"
      },
      "source": [
        "## First gemini call (relevance scoring)\n",
        "\n",
        "### Subtask:\n",
        "Generate the Python code to make the first call to the Gemini API. This code will send the prompt and the data to Gemini and receive the JSON output with relevance scores.\n"
      ]
    },
    {
      "cell_type": "markdown",
      "metadata": {
        "id": "17c2dbbf"
      },
      "source": [
        "**Reasoning**:\n",
        "Generate the Python code to define the user question, prepare the video chunk summaries for the prompt, format the prompt, configure the Gemini API key, initialize the Gemini model, make the API call, and print the raw response.\n",
        "\n"
      ]
    },
    {
      "cell_type": "code",
      "metadata": {
        "colab": {
          "base_uri": "https://localhost:8080/",
          "height": 71
        },
        "id": "1c08d7b3",
        "outputId": "c21619e3-479a-4528-eef7-bfc152699a3a"
      },
      "source": [
        "import json\n",
        "import getpass\n",
        "\n",
        "api_key = getpass.getpass(\"Enter your Google API Key: \")\n",
        "\n",
        "genai.configure(api_key=api_key)\n",
        "\n",
        "model = genai.GenerativeModel('gemini-1.5-flash-latest')\n",
        "\n",
        "response = model.generate_content(formatted_relevance_prompt)\n",
        "\n",
        "# Extract JSON content - Assuming the response is a string containing the JSON object\n",
        "# Need to handle cases where the response might have extra text before or after the JSON\n",
        "import re\n",
        "json_match = re.search(r'\\{.*\\}', response.text, re.DOTALL)\n",
        "\n",
        "if json_match:\n",
        "    json_string = json_match.group(0)\n",
        "    relevance_scores = json.loads(json_string)\n",
        "    print(relevance_scores)\n",
        "else:\n",
        "    print(\"Could not find a valid JSON object in the response.\")\n",
        "    relevance_scores = None # Or handle as an error\n"
      ],
      "execution_count": 5,
      "outputs": [
        {
          "output_type": "stream",
          "name": "stdout",
          "text": [
            "Enter your Google API Key: ··········\n",
            "{'Introduction to data analysis and its importance.': 2, 'Steps involved in data cleaning and preprocessing.': 8, 'Exploring data visualization techniques.': 7, 'Introduction to machine learning concepts.': 3}\n"
          ]
        }
      ]
    },
    {
      "cell_type": "markdown",
      "metadata": {
        "id": "4bb298b4"
      },
      "source": [
        "## Process the relevance scores\n",
        "\n",
        "### Subtask:\n",
        "Process the JSON output from the first Gemini call and select the top N most relevant chunks based on their scores.\n"
      ]
    },
    {
      "cell_type": "markdown",
      "metadata": {
        "id": "c9cae479"
      },
      "source": [
        "**Reasoning**:\n",
        "The goal is to select the top N most relevant chunks from the `relevance_scores` dictionary. This involves defining N, sorting the dictionary by values, and extracting the keys of the top N items. These steps can be combined into a single code block.\n",
        "\n"
      ]
    },
    {
      "cell_type": "code",
      "metadata": {
        "colab": {
          "base_uri": "https://localhost:8080/"
        },
        "id": "e7d9a729",
        "outputId": "10a043e7-1d8f-4497-ef8b-5ff1c1cf227d"
      },
      "source": [
        "top_n = 2\n",
        "sorted_scores = sorted(relevance_scores.items(), key=lambda item: item[1], reverse=True)\n",
        "top_chunks = [item[0] for item in sorted_scores[:top_n]]\n",
        "print(top_chunks)"
      ],
      "execution_count": 6,
      "outputs": [
        {
          "output_type": "stream",
          "name": "stdout",
          "text": [
            "['Steps involved in data cleaning and preprocessing.', 'Exploring data visualization techniques.']\n"
          ]
        }
      ]
    },
    {
      "cell_type": "markdown",
      "metadata": {
        "id": "15431317"
      },
      "source": [
        "## Formulate the second prompt (answer generation)\n",
        "\n",
        "### Subtask:\n",
        "Create a second prompt for Gemini. This prompt will include the user's question and the full content of the top-ranked video chunks. It will instruct Gemini to generate a comprehensive answer based on the provided context.\n"
      ]
    },
    {
      "cell_type": "markdown",
      "metadata": {
        "id": "1cef28cd"
      },
      "source": [
        "**Reasoning**:\n",
        "Define the string variable `answer_prompt` with the specified content and placeholders.\n",
        "\n"
      ]
    },
    {
      "cell_type": "code",
      "metadata": {
        "colab": {
          "base_uri": "https://localhost:8080/"
        },
        "id": "5f81d750",
        "outputId": "9e01ac56-057d-4187-9870-7d5b4f981a76"
      },
      "source": [
        "answer_prompt = \"\"\"\n",
        "You are an answer generator. Your task is to generate a comprehensive answer to a user's question based *only* on the provided video chunks content. Do not use any external knowledge.\n",
        "\n",
        "Here is the user question:\n",
        "{user_question}\n",
        "\n",
        "Here is the content of the top video chunks:\n",
        "{video_chunks_content}\n",
        "\n",
        "Generate a comprehensive answer based *only* on the above content.\n",
        "\"\"\"\n",
        "print(answer_prompt)"
      ],
      "execution_count": 7,
      "outputs": [
        {
          "output_type": "stream",
          "name": "stdout",
          "text": [
            "\n",
            "You are an answer generator. Your task is to generate a comprehensive answer to a user's question based *only* on the provided video chunks content. Do not use any external knowledge.\n",
            "\n",
            "Here is the user question:\n",
            "{user_question}\n",
            "\n",
            "Here is the content of the top video chunks:\n",
            "{video_chunks_content}\n",
            "\n",
            "Generate a comprehensive answer based *only* on the above content.\n",
            "\n"
          ]
        }
      ]
    },
    {
      "cell_type": "markdown",
      "metadata": {
        "id": "87d1ec41"
      },
      "source": [
        "## Second gemini call (answer generation)\n",
        "\n",
        "### Subtask:\n",
        "Make the second Gemini call to generate a comprehensive answer.\n"
      ]
    },
    {
      "cell_type": "markdown",
      "metadata": {
        "id": "f8fab4c8"
      },
      "source": [
        "**Reasoning**:\n",
        "I will now proceed with the final subtask of making the second Gemini call to generate a comprehensive answer. I will create the `top_chunks_content` by iterating through the `top_chunks` and finding the corresponding `video_segment` from the `video_chunks` list. Then, I will format the `answer_prompt` with the `user_question` and the created `top_chunks_content`. Finally, I will make the API call to Gemini and print the generated answer.\n",
        "\n"
      ]
    },
    {
      "cell_type": "code",
      "metadata": {
        "colab": {
          "base_uri": "https://localhost:8080/",
          "height": 71
        },
        "id": "82859188",
        "outputId": "38c1c595-a5d9-4e2e-b0e9-2a2dd2ebca8e"
      },
      "source": [
        "top_chunks_content = \"\"\n",
        "for chunk_summary in top_chunks:\n",
        "    for chunk in video_chunks:\n",
        "        if chunk['summary'] == chunk_summary:\n",
        "            top_chunks_content += chunk['video_segment'] + \"\\n\"\n",
        "\n",
        "formatted_answer_prompt = answer_prompt.format(\n",
        "    user_question=user_question,\n",
        "    video_chunks_content=top_chunks_content\n",
        ")\n",
        "\n",
        "answer_response = model.generate_content(formatted_answer_prompt)\n",
        "\n",
        "print(answer_response.text)"
      ],
      "execution_count": 8,
      "outputs": [
        {
          "output_type": "stream",
          "name": "stdout",
          "text": [
            "Based on the provided video chunks, the steps involved in data analysis begin with data cleaning.  Data cleaning includes addressing missing values and outliers.  Following data cleaning, data visualization is used to understand patterns within the data, employing various plotting techniques.\n",
            "\n"
          ]
        }
      ]
    },
    {
      "cell_type": "markdown",
      "metadata": {
        "id": "a87a9c48"
      },
      "source": [
        "## Summary:\n",
        "\n",
        "### Data Analysis Key Findings\n",
        "* The relevance scoring prompt successfully instructed the Gemini model to return a JSON object with relevance scores for each video chunk.\n",
        "* The top two most relevant chunks were identified as \"Steps involved in data cleaning and preprocessing\" and \"Exploring data visualization techniques\" based on the relevance scores provided by the Gemini model.\n",
        "* The final answer generated by the Gemini model was a concise summary of the data analysis steps, beginning with data cleaning and followed by data visualization, as described in the top-ranked video chunks.\n",
        "\n",
        "### Insights or Next Steps\n",
        "* The relevance scoring and answer generation process can be further refined by experimenting with different prompt engineering techniques to improve the accuracy and relevance of the results.\n"
      ]
    }
  ]
}