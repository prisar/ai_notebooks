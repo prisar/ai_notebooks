{
  "nbformat": 4,
  "nbformat_minor": 0,
  "metadata": {
    "colab": {
      "provenance": [],
      "authorship_tag": "ABX9TyPjgFb6IZD/KEwYetSPCKIq",
      "include_colab_link": true
    },
    "kernelspec": {
      "name": "python3",
      "display_name": "Python 3"
    },
    "language_info": {
      "name": "python"
    }
  },
  "cells": [
    {
      "cell_type": "markdown",
      "metadata": {
        "id": "view-in-github",
        "colab_type": "text"
      },
      "source": [
        "<a href=\"https://colab.research.google.com/github/prisar/ai_notebooks/blob/main/nb_070.ipynb\" target=\"_parent\"><img src=\"https://colab.research.google.com/assets/colab-badge.svg\" alt=\"Open In Colab\"/></a>"
      ]
    },
    {
      "cell_type": "code",
      "execution_count": null,
      "metadata": {
        "id": "ncaY_wwdradx"
      },
      "outputs": [],
      "source": []
    },
    {
      "cell_type": "code",
      "metadata": {
        "colab": {
          "base_uri": "https://localhost:8080/"
        },
        "id": "50146402",
        "outputId": "08837e28-387f-4a7b-d594-f1c2b169a02e"
      },
      "source": [
        "!pip install vaderSentiment"
      ],
      "execution_count": null,
      "outputs": [
        {
          "output_type": "stream",
          "name": "stdout",
          "text": [
            "Requirement already satisfied: vaderSentiment in /usr/local/lib/python3.11/dist-packages (3.3.2)\n",
            "Requirement already satisfied: requests in /usr/local/lib/python3.11/dist-packages (from vaderSentiment) (2.32.3)\n",
            "Requirement already satisfied: charset-normalizer<4,>=2 in /usr/local/lib/python3.11/dist-packages (from requests->vaderSentiment) (3.4.2)\n",
            "Requirement already satisfied: idna<4,>=2.5 in /usr/local/lib/python3.11/dist-packages (from requests->vaderSentiment) (3.10)\n",
            "Requirement already satisfied: urllib3<3,>=1.21.1 in /usr/local/lib/python3.11/dist-packages (from requests->vaderSentiment) (2.5.0)\n",
            "Requirement already satisfied: certifi>=2017.4.17 in /usr/local/lib/python3.11/dist-packages (from requests->vaderSentiment) (2025.7.14)\n"
          ]
        }
      ]
    },
    {
      "cell_type": "markdown",
      "metadata": {
        "id": "7c4176bd"
      },
      "source": [
        "Next, you can use the `SentimentIntensityAnalyzer` to get the sentiment scores for a piece of text."
      ]
    },
    {
      "cell_type": "code",
      "metadata": {
        "colab": {
          "base_uri": "https://localhost:8080/"
        },
        "id": "f42bc74e",
        "outputId": "62d533b7-81f7-4eec-dc5c-91502e832f8e"
      },
      "source": [
        "from vaderSentiment.vaderSentiment import SentimentIntensityAnalyzer\n",
        "\n",
        "# --- examples -------m\n",
        "sentences = [\"VADER is smart, handsome, and funny.\",  # positive sentence example\n",
        "             \"VADER is smart, handsome, and funny!\",  # punctuation emphasis handled correctly (sentiment intensity adjusted)\n",
        "             \"VADER is very smart, handsome, and funny.\", # booster words handled correctly (sentiment intensity adjusted)\n",
        "             \"VADER is VERY SMART, handsome, and FUNNY.\",  # emphasis for ALLCAPS handled\n",
        "             \"VADER is VERY SMART, handsome, and FUNNY!!!\",# combination of signals - VADER appropriately adjusts intensity\n",
        "             \"VADER is VERY SMART, uber handsome, and FRIGGIN FUNNY!!!\",# booster words & punctuation make this close to ceiling for score\n",
        "             \"VADER is not smart, handsome, nor funny.\",  # negation sentence example\n",
        "             \"The book was good.\",  # positive sentence\n",
        "             \"At least it isn't a horrible book.\",  # negated negative sentence with contraction\n",
        "             \"The book was only kind of good.\", # qualified positive sentence is handled correctly (intensity adjusted)\n",
        "             \"The plot was good, but the characters are uncompelling and the dialog is not great.\", # mixed negation sentence\n",
        "             \"Today is a brilliant sunny day\", # positive sentence w/ no punctuation\n",
        "             \"Today is a brilliant sunny day.\",  # positive sentence w/ punctuation\n",
        "             \"The package was supposed to arrive today, but it got lost in the mail.\", # negative sentence\n",
        "             \"I'm so excited for the party tonight!\", # positive sentence\n",
        "             \"I'm not looking forward to the dentist appointment tomorrow.\", # negative sentence\n",
        "             \"The movie was okay.\", # neutral sentence\n",
        "             \"The movie was just okay.\", # slightly negative sentence\n",
        "             \"The movie was meh.\", # neutral sentence\n",
        "             \"The movie was kind of meh.\", # slightly negative sentence\n",
        "             ]\n",
        "\n",
        "analyzer = SentimentIntensityAnalyzer()\n",
        "for sentence in sentences:\n",
        "    vs = analyzer.polarity_scores(sentence)\n",
        "    print(\"{:-<65} {}\".format(sentence, str(vs)))"
      ],
      "execution_count": null,
      "outputs": [
        {
          "output_type": "stream",
          "name": "stdout",
          "text": [
            "VADER is smart, handsome, and funny.----------------------------- {'neg': 0.0, 'neu': 0.254, 'pos': 0.746, 'compound': 0.8316}\n",
            "VADER is smart, handsome, and funny!----------------------------- {'neg': 0.0, 'neu': 0.248, 'pos': 0.752, 'compound': 0.8439}\n",
            "VADER is very smart, handsome, and funny.------------------------ {'neg': 0.0, 'neu': 0.299, 'pos': 0.701, 'compound': 0.8545}\n",
            "VADER is VERY SMART, handsome, and FUNNY.------------------------ {'neg': 0.0, 'neu': 0.246, 'pos': 0.754, 'compound': 0.9227}\n",
            "VADER is VERY SMART, handsome, and FUNNY!!!---------------------- {'neg': 0.0, 'neu': 0.233, 'pos': 0.767, 'compound': 0.9342}\n",
            "VADER is VERY SMART, uber handsome, and FRIGGIN FUNNY!!!--------- {'neg': 0.0, 'neu': 0.294, 'pos': 0.706, 'compound': 0.9469}\n",
            "VADER is not smart, handsome, nor funny.------------------------- {'neg': 0.646, 'neu': 0.354, 'pos': 0.0, 'compound': -0.7424}\n",
            "The book was good.----------------------------------------------- {'neg': 0.0, 'neu': 0.508, 'pos': 0.492, 'compound': 0.4404}\n",
            "At least it isn't a horrible book.------------------------------- {'neg': 0.0, 'neu': 0.678, 'pos': 0.322, 'compound': 0.431}\n",
            "The book was only kind of good.---------------------------------- {'neg': 0.0, 'neu': 0.697, 'pos': 0.303, 'compound': 0.3832}\n",
            "The plot was good, but the characters are uncompelling and the dialog is not great. {'neg': 0.327, 'neu': 0.579, 'pos': 0.094, 'compound': -0.7042}\n",
            "Today is a brilliant sunny day----------------------------------- {'neg': 0.0, 'neu': 0.377, 'pos': 0.623, 'compound': 0.765}\n",
            "Today is a brilliant sunny day.---------------------------------- {'neg': 0.0, 'neu': 0.377, 'pos': 0.623, 'compound': 0.765}\n",
            "The package was supposed to arrive today, but it got lost in the mail. {'neg': 0.185, 'neu': 0.815, 'pos': 0.0, 'compound': -0.4497}\n",
            "I'm so excited for the party tonight!---------------------------- {'neg': 0.0, 'neu': 0.468, 'pos': 0.532, 'compound': 0.6893}\n",
            "I'm not looking forward to the dentist appointment tomorrow.----- {'neg': 0.0, 'neu': 1.0, 'pos': 0.0, 'compound': 0.0}\n",
            "The movie was okay.---------------------------------------------- {'neg': 0.0, 'neu': 0.612, 'pos': 0.388, 'compound': 0.2263}\n",
            "The movie was just okay.----------------------------------------- {'neg': 0.0, 'neu': 0.678, 'pos': 0.322, 'compound': 0.2263}\n",
            "The movie was meh.----------------------------------------------- {'neg': 0.302, 'neu': 0.698, 'pos': 0.0, 'compound': -0.0772}\n",
            "The movie was kind of meh.--------------------------------------- {'neg': 0.242, 'neu': 0.758, 'pos': 0.0, 'compound': -0.1513}\n"
          ]
        }
      ]
    }
  ]
}