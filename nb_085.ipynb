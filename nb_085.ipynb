{
  "nbformat": 4,
  "nbformat_minor": 0,
  "metadata": {
    "colab": {
      "provenance": [],
      "authorship_tag": "ABX9TyO5VOtkVADMu13BnUi9F6FD",
      "include_colab_link": true
    },
    "kernelspec": {
      "name": "python3",
      "display_name": "Python 3"
    },
    "language_info": {
      "name": "python"
    }
  },
  "cells": [
    {
      "cell_type": "markdown",
      "metadata": {
        "id": "view-in-github",
        "colab_type": "text"
      },
      "source": [
        "<a href=\"https://colab.research.google.com/github/prisar/ai_notebooks/blob/main/nb_085.ipynb\" target=\"_parent\"><img src=\"https://colab.research.google.com/assets/colab-badge.svg\" alt=\"Open In Colab\"/></a>"
      ]
    },
    {
      "cell_type": "code",
      "execution_count": null,
      "metadata": {
        "id": "UOKeOxtH9ne3"
      },
      "outputs": [],
      "source": []
    },
    {
      "cell_type": "markdown",
      "metadata": {
        "id": "6a22cebb"
      },
      "source": [
        "# Task\n",
        "Test Gemini's audio understanding by transcribing the audio from the video file \"/data/2024-02-01 14-44-00.mkv\"."
      ]
    },
    {
      "cell_type": "markdown",
      "metadata": {
        "id": "cb5a8733"
      },
      "source": [
        "## Upload video file\n",
        "\n",
        "### Subtask:\n",
        "Upload the video file to be used for transcription.\n"
      ]
    },
    {
      "cell_type": "markdown",
      "metadata": {
        "id": "11a2d648"
      },
      "source": [
        "**Reasoning**:\n",
        "I will first attempt to copy the file from the given path to the current working directory. Then, I will list the files in the current directory to verify that the file was copied successfully.\n",
        "\n"
      ]
    },
    {
      "cell_type": "code",
      "metadata": {
        "colab": {
          "base_uri": "https://localhost:8080/"
        },
        "id": "30246185",
        "outputId": "08cb7d98-3ead-4b91-d3ce-518e71e458b3"
      },
      "source": [
        "import shutil\n",
        "import os\n",
        "\n",
        "# Source and destination paths\n",
        "source_path = '/content/test_video_2.mov'\n",
        "destination_path = './test_video_2.mov'\n",
        "\n",
        "# Copy the file\n",
        "try:\n",
        "    shutil.copyfile(source_path, destination_path)\n",
        "    print(f\"File copied successfully from {source_path} to {destination_path}\")\n",
        "except FileNotFoundError:\n",
        "    print(f\"Error: The file was not found at {source_path}\")\n",
        "except Exception as e:\n",
        "    print(f\"An error occurred: {e}\")\n",
        "\n",
        "# Verify the file exists in the current directory\n",
        "print(\"\\nFiles in the current directory:\")\n",
        "for file in os.listdir('.'):\n",
        "    print(file)"
      ],
      "execution_count": null,
      "outputs": [
        {
          "output_type": "stream",
          "name": "stdout",
          "text": [
            "An error occurred: '/content/test_video_2.mov' and './test_video_2.mov' are the same file\n",
            "\n",
            "Files in the current directory:\n",
            ".config\n",
            "test_video_2.mov\n",
            "sample_data\n"
          ]
        }
      ]
    },
    {
      "cell_type": "markdown",
      "metadata": {
        "id": "83f1fc0a"
      },
      "source": [
        "**Reasoning**:\n",
        "It seems the file was not copied and the previous command failed. I will try again to copy the file, but this time I will use a different destination name to avoid the \"same file\" error. Then I will list the files in the current directory to verify the file was copied.\n",
        "\n"
      ]
    },
    {
      "cell_type": "code",
      "metadata": {
        "colab": {
          "base_uri": "https://localhost:8080/"
        },
        "id": "229ff018",
        "outputId": "b0348029-697b-4f48-c82c-17a619af7a74"
      },
      "source": [
        "import shutil\n",
        "import os\n",
        "\n",
        "# Source and destination paths\n",
        "source_path = '/data/test_video_2.mkv'\n",
        "destination_path = './video.mkv'\n",
        "\n",
        "# Copy the file\n",
        "try:\n",
        "    shutil.copyfile(source_path, destination_path)\n",
        "    print(f\"File copied successfully from {source_path} to {destination_path}\")\n",
        "except FileNotFoundError:\n",
        "    print(f\"Error: The file was not found at {source_path}\")\n",
        "except Exception as e:\n",
        "    print(f\"An error occurred: {e}\")\n",
        "\n",
        "# Verify the file exists in the current directory\n",
        "print(\"\\nFiles in the current directory:\")\n",
        "for file in os.listdir('.'):\n",
        "    print(file)"
      ],
      "execution_count": null,
      "outputs": [
        {
          "output_type": "stream",
          "name": "stdout",
          "text": [
            "Error: The file was not found at /data/2024-02-01 14-44-00.mkv\n",
            "\n",
            "Files in the current directory:\n",
            ".config\n",
            "test_video_2.mov\n",
            "sample_data\n"
          ]
        }
      ]
    },
    {
      "cell_type": "markdown",
      "metadata": {
        "id": "1cacf7ba"
      },
      "source": [
        "## Summary:\n",
        "\n",
        "### Data Analysis Key Findings\n",
        "* The data analysis process was unable to locate the specified video file at the provided path `/data/2024-02-01 14-44-00.mkv`.\n",
        "* The attempt to copy the file resulted in a `FileNotFoundError`, indicating that the source file did not exist at the specified location.\n",
        "\n",
        "### Insights or Next Steps\n",
        "* Verify the existence and correct path of the video file before attempting to process it.\n"
      ]
    },
    {
      "cell_type": "markdown",
      "metadata": {
        "id": "3d7009bb"
      },
      "source": [
        "# Task\n",
        "Test the audio understanding of Gemini based on the video file \"/data/2024-05-14 17-11-44.mkv\" without transcribing the audio."
      ]
    },
    {
      "cell_type": "markdown",
      "metadata": {
        "id": "262f841c"
      },
      "source": [
        "## Upload video file\n",
        "\n",
        "### Subtask:\n",
        "Upload the video file to be used for analysis.\n"
      ]
    },
    {
      "cell_type": "markdown",
      "metadata": {
        "id": "79b78087"
      },
      "source": [
        "**Reasoning**:\n",
        "I will attempt to copy the video file from the specified path to the current working directory, naming it `video.mkv`. Then I will list the files to confirm the copy was successful. This addresses both instructions in the subtask.\n",
        "\n"
      ]
    },
    {
      "cell_type": "code",
      "metadata": {
        "colab": {
          "base_uri": "https://localhost:8080/"
        },
        "id": "df884529",
        "outputId": "a39b5575-dfd1-47fc-9a81-c390cad5e64c"
      },
      "source": [
        "import shutil\n",
        "import os\n",
        "\n",
        "# Source and destination paths\n",
        "source_path = '/content/test_video_2.mkv'\n",
        "destination_path = './video.mkv'\n",
        "\n",
        "# Copy the file\n",
        "try:\n",
        "    shutil.copyfile(source_path, destination_path)\n",
        "    print(f\"File copied successfully from {source_path} to {destination_path}\")\n",
        "except FileNotFoundError:\n",
        "    print(f\"Error: The file was not found at {source_path}\")\n",
        "except Exception as e:\n",
        "    print(f\"An error occurred: {e}\")\n",
        "\n",
        "# Verify the file exists in the current directory\n",
        "print(\"\\nFiles in the current directory:\")\n",
        "for file in os.listdir('.'):\n",
        "    print(file)"
      ],
      "execution_count": null,
      "outputs": [
        {
          "output_type": "stream",
          "name": "stdout",
          "text": [
            "Error: The file was not found at /content/test_video_2.mkv\n",
            "\n",
            "Files in the current directory:\n",
            ".config\n",
            "test_video_2.mov\n",
            "sample_data\n"
          ]
        }
      ]
    },
    {
      "cell_type": "markdown",
      "metadata": {
        "id": "407c82ba"
      },
      "source": [
        "## Upload video file\n",
        "\n",
        "### Subtask:\n",
        "Upload the video file that you want to test.\n"
      ]
    },
    {
      "cell_type": "markdown",
      "metadata": {
        "id": "944e0050"
      },
      "source": [
        "**Reasoning**:\n",
        "I need to copy the video file from the source path to the destination path, print a success or error message, and then list the files in the current directory to verify the copy.\n",
        "\n"
      ]
    },
    {
      "cell_type": "code",
      "metadata": {
        "colab": {
          "base_uri": "https://localhost:8080/"
        },
        "id": "e01a6eb8",
        "outputId": "07e6cc0c-8a41-41f1-8c17-d361061b8e1d"
      },
      "source": [
        "import shutil\n",
        "import os\n",
        "\n",
        "# Source and destination paths\n",
        "source_path = '/content/test_video_2.mov'\n",
        "destination_path = './video.mov'\n",
        "\n",
        "# Copy the file\n",
        "try:\n",
        "    shutil.copyfile(source_path, destination_path)\n",
        "    print(f\"File copied successfully from {source_path} to {destination_path}\")\n",
        "except FileNotFoundError:\n",
        "    print(f\"Error: The file was not found at {source_path}\")\n",
        "except Exception as e:\n",
        "    print(f\"An error occurred: {e}\")\n",
        "\n",
        "# Verify the file exists in the current directory\n",
        "print(\"\\nFiles in the current directory:\")\n",
        "for file in os.listdir('.'):\n",
        "    print(file)"
      ],
      "execution_count": null,
      "outputs": [
        {
          "output_type": "stream",
          "name": "stdout",
          "text": [
            "File copied successfully from /content/test_video_2.mov to ./video.mov\n",
            "\n",
            "Files in the current directory:\n",
            ".config\n",
            "video.mov\n",
            "test_video_2.mov\n",
            "sample_data\n"
          ]
        }
      ]
    },
    {
      "cell_type": "markdown",
      "metadata": {
        "id": "3df91ab7"
      },
      "source": [
        "## Install libraries\n",
        "\n",
        "### Subtask:\n",
        "Install the necessary libraries to extract audio from the video and to use the Gemini API.\n"
      ]
    },
    {
      "cell_type": "markdown",
      "metadata": {
        "id": "8661bc2a"
      },
      "source": [
        "**Reasoning**:\n",
        "I will install the necessary libraries, `moviepy` and `google-generativeai`, using pip. These libraries are required to extract audio from the video and interact with the Gemini API, respectively, as stated in the instructions.\n",
        "\n"
      ]
    },
    {
      "cell_type": "code",
      "metadata": {
        "colab": {
          "base_uri": "https://localhost:8080/"
        },
        "id": "996ab250",
        "outputId": "6923245a-fe85-4ba3-ba3e-1bcb10c4c42e"
      },
      "source": [
        "!pip install moviepy\n",
        "!pip install google-generativeai"
      ],
      "execution_count": null,
      "outputs": [
        {
          "output_type": "stream",
          "name": "stdout",
          "text": [
            "Requirement already satisfied: moviepy in /usr/local/lib/python3.11/dist-packages (1.0.3)\n",
            "Requirement already satisfied: decorator<5.0,>=4.0.2 in /usr/local/lib/python3.11/dist-packages (from moviepy) (4.4.2)\n",
            "Requirement already satisfied: tqdm<5.0,>=4.11.2 in /usr/local/lib/python3.11/dist-packages (from moviepy) (4.67.1)\n",
            "Requirement already satisfied: requests<3.0,>=2.8.1 in /usr/local/lib/python3.11/dist-packages (from moviepy) (2.32.3)\n",
            "Requirement already satisfied: proglog<=1.0.0 in /usr/local/lib/python3.11/dist-packages (from moviepy) (0.1.12)\n",
            "Requirement already satisfied: numpy>=1.17.3 in /usr/local/lib/python3.11/dist-packages (from moviepy) (2.0.2)\n",
            "Requirement already satisfied: imageio<3.0,>=2.5 in /usr/local/lib/python3.11/dist-packages (from moviepy) (2.37.0)\n",
            "Requirement already satisfied: imageio-ffmpeg>=0.2.0 in /usr/local/lib/python3.11/dist-packages (from moviepy) (0.6.0)\n",
            "Requirement already satisfied: pillow>=8.3.2 in /usr/local/lib/python3.11/dist-packages (from imageio<3.0,>=2.5->moviepy) (11.3.0)\n",
            "Requirement already satisfied: charset-normalizer<4,>=2 in /usr/local/lib/python3.11/dist-packages (from requests<3.0,>=2.8.1->moviepy) (3.4.2)\n",
            "Requirement already satisfied: idna<4,>=2.5 in /usr/local/lib/python3.11/dist-packages (from requests<3.0,>=2.8.1->moviepy) (3.10)\n",
            "Requirement already satisfied: urllib3<3,>=1.21.1 in /usr/local/lib/python3.11/dist-packages (from requests<3.0,>=2.8.1->moviepy) (2.5.0)\n",
            "Requirement already satisfied: certifi>=2017.4.17 in /usr/local/lib/python3.11/dist-packages (from requests<3.0,>=2.8.1->moviepy) (2025.7.14)\n",
            "Requirement already satisfied: google-generativeai in /usr/local/lib/python3.11/dist-packages (0.8.5)\n",
            "Requirement already satisfied: google-ai-generativelanguage==0.6.15 in /usr/local/lib/python3.11/dist-packages (from google-generativeai) (0.6.15)\n",
            "Requirement already satisfied: google-api-core in /usr/local/lib/python3.11/dist-packages (from google-generativeai) (2.25.1)\n",
            "Requirement already satisfied: google-api-python-client in /usr/local/lib/python3.11/dist-packages (from google-generativeai) (2.177.0)\n",
            "Requirement already satisfied: google-auth>=2.15.0 in /usr/local/lib/python3.11/dist-packages (from google-generativeai) (2.38.0)\n",
            "Requirement already satisfied: protobuf in /usr/local/lib/python3.11/dist-packages (from google-generativeai) (5.29.5)\n",
            "Requirement already satisfied: pydantic in /usr/local/lib/python3.11/dist-packages (from google-generativeai) (2.11.7)\n",
            "Requirement already satisfied: tqdm in /usr/local/lib/python3.11/dist-packages (from google-generativeai) (4.67.1)\n",
            "Requirement already satisfied: typing-extensions in /usr/local/lib/python3.11/dist-packages (from google-generativeai) (4.14.1)\n",
            "Requirement already satisfied: proto-plus<2.0.0dev,>=1.22.3 in /usr/local/lib/python3.11/dist-packages (from google-ai-generativelanguage==0.6.15->google-generativeai) (1.26.1)\n",
            "Requirement already satisfied: googleapis-common-protos<2.0.0,>=1.56.2 in /usr/local/lib/python3.11/dist-packages (from google-api-core->google-generativeai) (1.70.0)\n",
            "Requirement already satisfied: requests<3.0.0,>=2.18.0 in /usr/local/lib/python3.11/dist-packages (from google-api-core->google-generativeai) (2.32.3)\n",
            "Requirement already satisfied: cachetools<6.0,>=2.0.0 in /usr/local/lib/python3.11/dist-packages (from google-auth>=2.15.0->google-generativeai) (5.5.2)\n",
            "Requirement already satisfied: pyasn1-modules>=0.2.1 in /usr/local/lib/python3.11/dist-packages (from google-auth>=2.15.0->google-generativeai) (0.4.2)\n",
            "Requirement already satisfied: rsa<5,>=3.1.4 in /usr/local/lib/python3.11/dist-packages (from google-auth>=2.15.0->google-generativeai) (4.9.1)\n",
            "Requirement already satisfied: httplib2<1.0.0,>=0.19.0 in /usr/local/lib/python3.11/dist-packages (from google-api-python-client->google-generativeai) (0.22.0)\n",
            "Requirement already satisfied: google-auth-httplib2<1.0.0,>=0.2.0 in /usr/local/lib/python3.11/dist-packages (from google-api-python-client->google-generativeai) (0.2.0)\n",
            "Requirement already satisfied: uritemplate<5,>=3.0.1 in /usr/local/lib/python3.11/dist-packages (from google-api-python-client->google-generativeai) (4.2.0)\n",
            "Requirement already satisfied: annotated-types>=0.6.0 in /usr/local/lib/python3.11/dist-packages (from pydantic->google-generativeai) (0.7.0)\n",
            "Requirement already satisfied: pydantic-core==2.33.2 in /usr/local/lib/python3.11/dist-packages (from pydantic->google-generativeai) (2.33.2)\n",
            "Requirement already satisfied: typing-inspection>=0.4.0 in /usr/local/lib/python3.11/dist-packages (from pydantic->google-generativeai) (0.4.1)\n",
            "Requirement already satisfied: grpcio<2.0.0,>=1.33.2 in /usr/local/lib/python3.11/dist-packages (from google-api-core[grpc]!=2.0.*,!=2.1.*,!=2.10.*,!=2.2.*,!=2.3.*,!=2.4.*,!=2.5.*,!=2.6.*,!=2.7.*,!=2.8.*,!=2.9.*,<3.0.0dev,>=1.34.1->google-ai-generativelanguage==0.6.15->google-generativeai) (1.74.0)\n",
            "Requirement already satisfied: grpcio-status<2.0.0,>=1.33.2 in /usr/local/lib/python3.11/dist-packages (from google-api-core[grpc]!=2.0.*,!=2.1.*,!=2.10.*,!=2.2.*,!=2.3.*,!=2.4.*,!=2.5.*,!=2.6.*,!=2.7.*,!=2.8.*,!=2.9.*,<3.0.0dev,>=1.34.1->google-ai-generativelanguage==0.6.15->google-generativeai) (1.71.2)\n",
            "Requirement already satisfied: pyparsing!=3.0.0,!=3.0.1,!=3.0.2,!=3.0.3,<4,>=2.4.2 in /usr/local/lib/python3.11/dist-packages (from httplib2<1.0.0,>=0.19.0->google-api-python-client->google-generativeai) (3.2.3)\n",
            "Requirement already satisfied: pyasn1<0.7.0,>=0.6.1 in /usr/local/lib/python3.11/dist-packages (from pyasn1-modules>=0.2.1->google-auth>=2.15.0->google-generativeai) (0.6.1)\n",
            "Requirement already satisfied: charset-normalizer<4,>=2 in /usr/local/lib/python3.11/dist-packages (from requests<3.0.0,>=2.18.0->google-api-core->google-generativeai) (3.4.2)\n",
            "Requirement already satisfied: idna<4,>=2.5 in /usr/local/lib/python3.11/dist-packages (from requests<3.0.0,>=2.18.0->google-api-core->google-generativeai) (3.10)\n",
            "Requirement already satisfied: urllib3<3,>=1.21.1 in /usr/local/lib/python3.11/dist-packages (from requests<3.0.0,>=2.18.0->google-api-core->google-generativeai) (2.5.0)\n",
            "Requirement already satisfied: certifi>=2017.4.17 in /usr/local/lib/python3.11/dist-packages (from requests<3.0.0,>=2.18.0->google-api-core->google-generativeai) (2025.7.14)\n"
          ]
        }
      ]
    },
    {
      "cell_type": "markdown",
      "metadata": {
        "id": "1a657f46"
      },
      "source": [
        "## Extract audio\n",
        "\n",
        "### Subtask:\n",
        "Extract the audio from the uploaded video file.\n"
      ]
    },
    {
      "cell_type": "markdown",
      "metadata": {
        "id": "29efa78b"
      },
      "source": [
        "**Reasoning**:\n",
        "I will now proceed with extracting the audio from the video file \"video.mkv\" as per the instructions. I will import the necessary class, load the video, extract the audio, write it to a new file named \"audio.wav\", and then close the resources. This completes all the steps of the subtask in a single code block.\n",
        "\n"
      ]
    },
    {
      "cell_type": "code",
      "metadata": {
        "colab": {
          "base_uri": "https://localhost:8080/"
        },
        "id": "e040aeed",
        "outputId": "29739236-dd45-4e7e-cbb8-95fdb242471c"
      },
      "source": [
        "from moviepy.editor import VideoFileClip\n",
        "\n",
        "try:\n",
        "    video = VideoFileClip(\"video.mkv\")\n",
        "    audio = video.audio\n",
        "    audio.write_audiofile(\"audio.wav\")\n",
        "    video.close()\n",
        "    audio.close()\n",
        "    print(\"Audio extracted successfully and saved as audio.wav\")\n",
        "except Exception as e:\n",
        "    print(f\"An error occurred during audio extraction: {e}\")"
      ],
      "execution_count": null,
      "outputs": [
        {
          "output_type": "stream",
          "name": "stderr",
          "text": [
            "WARNING:py.warnings:/usr/local/lib/python3.11/dist-packages/moviepy/video/io/sliders.py:61: SyntaxWarning: \"is\" with a literal. Did you mean \"==\"?\n",
            "  if event.key is 'enter':\n",
            "\n"
          ]
        },
        {
          "output_type": "stream",
          "name": "stdout",
          "text": [
            "An error occurred during audio extraction: MoviePy error: the file video.mkv could not be found!\n",
            "Please check that you entered the correct path.\n"
          ]
        }
      ]
    },
    {
      "cell_type": "markdown",
      "metadata": {
        "id": "99ef2e28"
      },
      "source": [
        "**Reasoning**:\n",
        "The previous attempt to extract audio failed because the video file \"video.mkv\" was not found. Although the previous subtask reported success in copying the file, the execution output indicates otherwise. I will verify the files in the current directory again to confirm the presence of \"video.mkv\" before attempting to extract the audio again.\n",
        "\n"
      ]
    },
    {
      "cell_type": "code",
      "metadata": {
        "colab": {
          "base_uri": "https://localhost:8080/"
        },
        "id": "C8sgihMxhFax",
        "outputId": "2b789363-6699-4707-d7c3-7039583031c7"
      },
      "source": [
        "import os\n",
        "\n",
        "print(\"Files in the current directory:\")\n",
        "for file in os.listdir('.'):\n",
        "    print(file)"
      ],
      "execution_count": null,
      "outputs": [
        {
          "output_type": "stream",
          "name": "stdout",
          "text": [
            "Files in the current directory:\n",
            ".config\n",
            "video.mov\n",
            "test_video_2.mov\n",
            "sample_data\n"
          ]
        }
      ]
    }
  ]
}