{
  "nbformat": 4,
  "nbformat_minor": 0,
  "metadata": {
    "colab": {
      "provenance": [],
      "authorship_tag": "ABX9TyOrow/L7nV1wpYkR2GuzeRr",
      "include_colab_link": true
    },
    "kernelspec": {
      "name": "python3",
      "display_name": "Python 3"
    },
    "language_info": {
      "name": "python"
    }
  },
  "cells": [
    {
      "cell_type": "markdown",
      "metadata": {
        "id": "view-in-github",
        "colab_type": "text"
      },
      "source": [
        "<a href=\"https://colab.research.google.com/github/prisar/ai_notebooks/blob/main/nb_067.ipynb\" target=\"_parent\"><img src=\"https://colab.research.google.com/assets/colab-badge.svg\" alt=\"Open In Colab\"/></a>"
      ]
    },
    {
      "cell_type": "code",
      "execution_count": null,
      "metadata": {
        "id": "kdecxPTsZeUF"
      },
      "outputs": [],
      "source": []
    },
    {
      "cell_type": "markdown",
      "source": [
        "### paper\n",
        "\n",
        "Learning under Latent Group Sparsity\n",
        "via Diffusion on Networks\n",
        "\n",
        "[link](https://arxiv.org/pdf/2507.15097)"
      ],
      "metadata": {
        "id": "ovFXMzVjZio_"
      }
    },
    {
      "cell_type": "code",
      "source": [
        "import numpy as np\n",
        "\n",
        "def estimate_graph_laplacian(X, quantile=0.75):\n",
        "    \"\"\"\n",
        "    Estimates the graph Laplacian from the data matrix X.\n",
        "    Corresponds to Algorithm 6 in the paper. [cite: 246]\n",
        "    \"\"\"\n",
        "    # Ensure X is centered for correlation calculation\n",
        "    X_centered = X - X.mean(axis=0)\n",
        "\n",
        "    # 1. Estimate the correlation matrix\n",
        "    p = X.shape[1]\n",
        "    if p == 0:\n",
        "        return np.array([[]])\n",
        "    R_hat = np.corrcoef(X_centered, rowvar=False)\n",
        "    # Handle case where a column has zero variance\n",
        "    R_hat = np.nan_to_num(R_hat)\n",
        "\n",
        "    # 2. Threshold the correlation matrix to get the adjacency matrix\n",
        "    # [cite: 244]\n",
        "    abs_R_hat = np.abs(R_hat)\n",
        "    # Exclude the diagonal from quantile calculation\n",
        "    off_diagonal_indices = ~np.eye(p, dtype=bool)\n",
        "    threshold = np.quantile(abs_R_hat[off_diagonal_indices], quantile)\n",
        "    A = (abs_R_hat > threshold).astype(int)\n",
        "    np.fill_diagonal(A, 0) # No self-loops\n",
        "\n",
        "    # 3. Compute the unnormalized graph Laplacian\n",
        "    #\n",
        "    D = np.diag(np.sum(A, axis=1))\n",
        "    L = D - A\n",
        "\n",
        "    return L, A"
      ],
      "metadata": {
        "id": "rsMyyecfZnaV"
      },
      "execution_count": null,
      "outputs": []
    },
    {
      "cell_type": "code",
      "source": [],
      "metadata": {
        "id": "yZsvZcICcEbu"
      },
      "execution_count": null,
      "outputs": []
    },
    {
      "cell_type": "code",
      "metadata": {
        "colab": {
          "base_uri": "https://localhost:8080/",
          "height": 408
        },
        "id": "911dadd6",
        "outputId": "696cd90c-f663-46d8-a3d7-b91bddc1e945"
      },
      "source": [
        "# Create some example data\n",
        "X_example = np.random.rand(100, 10) # 100 samples, 10 features\n",
        "\n",
        "# Call the function with the example data\n",
        "L_example, A_example = estimate_graph_laplacian(X_example)\n",
        "\n",
        "# Display the resulting Laplacian and Adjacency matrices\n",
        "print(\"Estimated Graph Laplacian (L):\")\n",
        "display(L_example)\n",
        "\n",
        "print(\"\\nEstimated Adjacency Matrix (A):\")\n",
        "display(A_example)"
      ],
      "execution_count": null,
      "outputs": [
        {
          "output_type": "stream",
          "name": "stdout",
          "text": [
            "Estimated Graph Laplacian (L):\n"
          ]
        },
        {
          "output_type": "display_data",
          "data": {
            "text/plain": [
              "array([[ 1,  0,  0, -1,  0,  0,  0,  0,  0,  0],\n",
              "       [ 0,  3,  0, -1,  0, -1,  0, -1,  0,  0],\n",
              "       [ 0,  0,  0,  0,  0,  0,  0,  0,  0,  0],\n",
              "       [-1, -1,  0,  5, -1, -1,  0,  0,  0, -1],\n",
              "       [ 0,  0,  0, -1,  1,  0,  0,  0,  0,  0],\n",
              "       [ 0, -1,  0, -1,  0,  4, -1,  0,  0, -1],\n",
              "       [ 0,  0,  0,  0,  0, -1,  1,  0,  0,  0],\n",
              "       [ 0, -1,  0,  0,  0,  0,  0,  2,  0, -1],\n",
              "       [ 0,  0,  0,  0,  0,  0,  0,  0,  1, -1],\n",
              "       [ 0,  0,  0, -1,  0, -1,  0, -1, -1,  4]])"
            ]
          },
          "metadata": {}
        },
        {
          "output_type": "stream",
          "name": "stdout",
          "text": [
            "\n",
            "Estimated Adjacency Matrix (A):\n"
          ]
        },
        {
          "output_type": "display_data",
          "data": {
            "text/plain": [
              "array([[0, 0, 0, 1, 0, 0, 0, 0, 0, 0],\n",
              "       [0, 0, 0, 1, 0, 1, 0, 1, 0, 0],\n",
              "       [0, 0, 0, 0, 0, 0, 0, 0, 0, 0],\n",
              "       [1, 1, 0, 0, 1, 1, 0, 0, 0, 1],\n",
              "       [0, 0, 0, 1, 0, 0, 0, 0, 0, 0],\n",
              "       [0, 1, 0, 1, 0, 0, 1, 0, 0, 1],\n",
              "       [0, 0, 0, 0, 0, 1, 0, 0, 0, 0],\n",
              "       [0, 1, 0, 0, 0, 0, 0, 0, 0, 1],\n",
              "       [0, 0, 0, 0, 0, 0, 0, 0, 0, 1],\n",
              "       [0, 0, 0, 1, 0, 1, 0, 1, 1, 0]])"
            ]
          },
          "metadata": {}
        }
      ]
    },
    {
      "cell_type": "code",
      "source": [
        "def simulate_heat_flow(A, t_flow, B):\n",
        "    \"\"\"\n",
        "    Simulates continuous-time random walks to generate the heat flow matrix H.\n",
        "    Corresponds to Algorithm 1 in the paper. [cite: 179]\n",
        "    \"\"\"\n",
        "    p = A.shape[0]\n",
        "    H = np.zeros((p, B), dtype=int)\n",
        "    degrees = np.sum(A, axis=1)\n",
        "    neighbors = [np.where(A[i] > 0)[0] for i in range(p)]\n",
        "\n",
        "    for i in range(p): # For each starting vertex\n",
        "        for j in range(B): # For each simulation\n",
        "            current_node = i\n",
        "            current_time = 0.0\n",
        "\n",
        "            while current_time < t_flow:\n",
        "                node_degree = degrees[current_node]\n",
        "                if node_degree == 0:\n",
        "                    break # Isolated node\n",
        "\n",
        "                # Time to next jump is Exponential(rate=degree)\n",
        "                # [cite: 628]\n",
        "                time_step = np.random.exponential(1.0 / node_degree)\n",
        "                current_time += time_step\n",
        "\n",
        "                if current_time < t_flow:\n",
        "                    # Jump to a random neighbor\n",
        "                    # [cite: 630]\n",
        "                    current_node = np.random.choice(neighbors[current_node])\n",
        "\n",
        "            H[i, j] = current_node\n",
        "    return H\n",
        "\n",
        "def apply_heat_flow(H, f):\n",
        "    \"\"\"\n",
        "    Estimates the action of the heat flow operator e^(-tL) on a vector f.\n",
        "    Corresponds to Algorithm 2 in the paper. [cite: 179]\n",
        "    \"\"\"\n",
        "    p = H.shape[0]\n",
        "    g = np.zeros(p)\n",
        "\n",
        "    for i in range(p):\n",
        "        # Endpoints of B walks started at i\n",
        "        endpoints = H[i, :]\n",
        "        # Average the values of f at these endpoints\n",
        "        # [cite: 160, 179]\n",
        "        g[i] = np.mean(f[endpoints])\n",
        "\n",
        "    return g"
      ],
      "metadata": {
        "id": "11NpqFovcGD7"
      },
      "execution_count": null,
      "outputs": []
    }
  ]
}